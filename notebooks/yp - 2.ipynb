{
 "cells": [
  {
   "cell_type": "code",
   "execution_count": 77,
   "id": "e3a7c1dc",
   "metadata": {},
   "outputs": [],
   "source": [
    "import pandas as pd\n",
    "\n",
    "data = pd.read_csv('/root/code/oscarthse/portfolio_manager/raw_data/AAPL_technical_analysis.csv')\n",
    "aapl = pd.read_csv('/root/code/oscarthse/portfolio_manager/raw_data/AAPL.csv')"
   ]
  },
  {
   "cell_type": "code",
   "execution_count": 24,
   "id": "e2ad577f",
   "metadata": {},
   "outputs": [],
   "source": [
    "merged = data.merge(aapl, on='Unnamed: 0', how='outer')"
   ]
  },
  {
   "cell_type": "code",
   "execution_count": 25,
   "id": "468a8831",
   "metadata": {},
   "outputs": [
    {
     "data": {
      "text/plain": [
       "Unnamed: 0              0\n",
       "EMA                 13216\n",
       "SlowK                1792\n",
       "SlowD                1792\n",
       "Real Upper Band     13216\n",
       "Real Middle Band    13216\n",
       "Real Lower Band     13216\n",
       "WILLR               13216\n",
       "ATR                 13440\n",
       "CMO                 13440\n",
       "MACD                 7392\n",
       "MACD_Signal          7392\n",
       "MACD_Hist            7392\n",
       "RSI                 13440\n",
       "OBV                     0\n",
       "SAR                   224\n",
       "1. open                 0\n",
       "2. high                 0\n",
       "3. low                  0\n",
       "4. close                0\n",
       "5. volume               0\n",
       "dtype: int64"
      ]
     },
     "execution_count": 25,
     "metadata": {},
     "output_type": "execute_result"
    }
   ],
   "source": [
    "merged.isnull().sum()"
   ]
  },
  {
   "cell_type": "code",
   "execution_count": 78,
   "id": "35e03565",
   "metadata": {},
   "outputs": [],
   "source": [
    "data['Unnamed: 0'] = pd.to_datetime(data['Unnamed: 0'])"
   ]
  },
  {
   "cell_type": "code",
   "execution_count": 79,
   "id": "0d40e61a",
   "metadata": {},
   "outputs": [],
   "source": [
    "data.interpolate(method='linear', inplace=True)\n"
   ]
  },
  {
   "cell_type": "code",
   "execution_count": 80,
   "id": "26c68398",
   "metadata": {},
   "outputs": [
    {
     "data": {
      "text/plain": [
       "Unnamed: 0           0\n",
       "EMA                 59\n",
       "SlowK                8\n",
       "SlowD                8\n",
       "Real Upper Band     59\n",
       "Real Middle Band    59\n",
       "Real Lower Band     59\n",
       "WILLR               59\n",
       "ATR                 60\n",
       "CMO                 60\n",
       "MACD                33\n",
       "MACD_Signal         33\n",
       "MACD_Hist           33\n",
       "RSI                 60\n",
       "OBV                  0\n",
       "SAR                  1\n",
       "dtype: int64"
      ]
     },
     "execution_count": 80,
     "metadata": {},
     "output_type": "execute_result"
    }
   ],
   "source": [
    "data.isnull().sum()"
   ]
  },
  {
   "cell_type": "code",
   "execution_count": 81,
   "id": "0d55e148",
   "metadata": {},
   "outputs": [
    {
     "data": {
      "text/plain": [
       "Unnamed: 0          2005-02-01 10:00:00\n",
       "EMA                            1.133442\n",
       "SlowK                         53.732456\n",
       "SlowD                         47.884978\n",
       "Real Upper Band                    1.18\n",
       "Real Middle Band               1.125558\n",
       "Real Lower Band                1.071217\n",
       "WILLR                        -21.913567\n",
       "ATR                            0.009875\n",
       "CMO                           25.934962\n",
       "MACD                           0.011068\n",
       "MACD_Signal                    0.012565\n",
       "MACD_Hist                     -0.001597\n",
       "RSI                           62.967523\n",
       "OBV                         -83037808.0\n",
       "SAR                               1.177\n",
       "Name: 425, dtype: object"
      ]
     },
     "execution_count": 81,
     "metadata": {},
     "output_type": "execute_result"
    }
   ],
   "source": [
    "data.iloc[425]"
   ]
  },
  {
   "cell_type": "code",
   "execution_count": 70,
   "id": "dff0403b",
   "metadata": {},
   "outputs": [],
   "source": [
    "aapl['Unnamed: 0'] = pd.to_datetime(aapl['Unnamed: 0'])"
   ]
  },
  {
   "cell_type": "markdown",
   "id": "8f4e7a01",
   "metadata": {},
   "source": [
    "# GBM "
   ]
  },
  {
   "cell_type": "code",
   "execution_count": null,
   "id": "676a7bdd",
   "metadata": {},
   "outputs": [],
   "source": []
  }
 ],
 "metadata": {
  "kernelspec": {
   "display_name": "Python 3 (ipykernel)",
   "language": "python",
   "name": "python3"
  },
  "language_info": {
   "codemirror_mode": {
    "name": "ipython",
    "version": 3
   },
   "file_extension": ".py",
   "mimetype": "text/x-python",
   "name": "python",
   "nbconvert_exporter": "python",
   "pygments_lexer": "ipython3",
   "version": "3.10.6"
  },
  "toc": {
   "base_numbering": 1,
   "nav_menu": {},
   "number_sections": true,
   "sideBar": true,
   "skip_h1_title": false,
   "title_cell": "Table of Contents",
   "title_sidebar": "Contents",
   "toc_cell": false,
   "toc_position": {},
   "toc_section_display": true,
   "toc_window_display": false
  }
 },
 "nbformat": 4,
 "nbformat_minor": 5
}
