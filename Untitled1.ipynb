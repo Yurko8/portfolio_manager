{
 "cells": [
  {
   "cell_type": "code",
   "execution_count": 1,
   "id": "7f32b297",
   "metadata": {},
   "outputs": [
    {
     "name": "stderr",
     "output_type": "stream",
     "text": [
      "2024-08-30 10:52:54.550679: I tensorflow/core/util/port.cc:153] oneDNN custom operations are on. You may see slightly different numerical results due to floating-point round-off errors from different computation orders. To turn them off, set the environment variable `TF_ENABLE_ONEDNN_OPTS=0`.\n",
      "2024-08-30 10:52:54.551107: I external/local_xla/xla/tsl/cuda/cudart_stub.cc:32] Could not find cuda drivers on your machine, GPU will not be used.\n",
      "2024-08-30 10:52:54.554566: I external/local_xla/xla/tsl/cuda/cudart_stub.cc:32] Could not find cuda drivers on your machine, GPU will not be used.\n",
      "2024-08-30 10:52:54.561114: E external/local_xla/xla/stream_executor/cuda/cuda_fft.cc:485] Unable to register cuFFT factory: Attempting to register factory for plugin cuFFT when one has already been registered\n",
      "2024-08-30 10:52:54.571033: E external/local_xla/xla/stream_executor/cuda/cuda_dnn.cc:8454] Unable to register cuDNN factory: Attempting to register factory for plugin cuDNN when one has already been registered\n",
      "2024-08-30 10:52:54.574029: E external/local_xla/xla/stream_executor/cuda/cuda_blas.cc:1452] Unable to register cuBLAS factory: Attempting to register factory for plugin cuBLAS when one has already been registered\n",
      "2024-08-30 10:52:54.582551: I tensorflow/core/platform/cpu_feature_guard.cc:210] This TensorFlow binary is optimized to use available CPU instructions in performance-critical operations.\n",
      "To enable the following instructions: AVX2 AVX_VNNI FMA, in other operations, rebuild TensorFlow with the appropriate compiler flags.\n",
      "2024-08-30 10:52:55.186576: W tensorflow/compiler/tf2tensorrt/utils/py_utils.cc:38] TF-TRT Warning: Could not find TensorRT\n",
      "/home/yurko/.pyenv/versions/3.10.6/envs/lewagon/lib/python3.10/site-packages/scipy/__init__.py:146: UserWarning: A NumPy version >=1.17.3 and <1.25.0 is required for this version of SciPy (detected version 1.26.4\n",
      "  warnings.warn(f\"A NumPy version >={np_minversion} and <{np_maxversion}\"\n"
     ]
    }
   ],
   "source": [
    "from tensorflow.keras import models\n",
    "from tensorflow.keras import Sequential, layers\n",
    "from tensorflow.keras import optimizers\n",
    "from tensorflow.keras import callbacks\n",
    "from tensorflow.keras.layers import Dense, Reshape\n",
    "from tensorflow.keras import regularizers\n",
    "from tensorflow.keras.callbacks import EarlyStopping\n",
    "from tensorflow.keras.optimizers import Adam"
   ]
  },
  {
   "cell_type": "code",
   "execution_count": 2,
   "id": "91dac245",
   "metadata": {},
   "outputs": [],
   "source": [
    "import numpy as np\n",
    "import pandas as pd"
   ]
  },
  {
   "cell_type": "code",
   "execution_count": 3,
   "id": "69d2b831",
   "metadata": {},
   "outputs": [],
   "source": [
    "from sklearn.preprocessing import MinMaxScaler"
   ]
  },
  {
   "cell_type": "code",
   "execution_count": 4,
   "id": "ebeacbb9",
   "metadata": {},
   "outputs": [],
   "source": [
    "df_data = pd.read_csv(\"raw_data/AAPL.csv\")"
   ]
  },
  {
   "cell_type": "code",
   "execution_count": 5,
   "id": "7349d77e",
   "metadata": {},
   "outputs": [],
   "source": [
    "df_macroeconomic = pd.read_csv(\"raw_data/macro_economic_indicators.csv\")"
   ]
  },
  {
   "cell_type": "code",
   "execution_count": 6,
   "id": "e2c86dab",
   "metadata": {},
   "outputs": [],
   "source": [
    "df_technical = pd.read_csv(\"raw_data/AAPL_technical_analysis.csv\")"
   ]
  },
  {
   "cell_type": "code",
   "execution_count": 7,
   "id": "75254ac6",
   "metadata": {},
   "outputs": [
    {
     "data": {
      "text/plain": [
       "Index(['Unnamed: 0', 'EMA', 'SlowK', 'SlowD', 'Real Upper Band',\n",
       "       'Real Middle Band', 'Real Lower Band', 'WILLR', 'ATR', 'CMO', 'MACD',\n",
       "       'MACD_Signal', 'MACD_Hist', 'RSI', 'OBV', 'SAR'],\n",
       "      dtype='object')"
      ]
     },
     "execution_count": 7,
     "metadata": {},
     "output_type": "execute_result"
    }
   ],
   "source": [
    "df_technical.columns"
   ]
  },
  {
   "cell_type": "code",
   "execution_count": 8,
   "id": "fe303ebd",
   "metadata": {},
   "outputs": [],
   "source": [
    "def rename_macroeconomic(df_macroeconomic):\n",
    "    columns_macroeconomic = [\"datetime\", \"interest_rate\", \"GDP\", \"inflation\"]\n",
    "    df_macroeconomic.columns = columns_macroeconomic\n",
    "    return df_macroeconomic\n",
    "\n",
    "def merge_macroeconomic(df_technical, df_macroeconomic):\n",
    "    df_merged = df_technical.merge(df_macroeconomic, on=\"datetime\", how=\"inner\")\n",
    "    return df_merged\n",
    "\n",
    "def rename_columns(df):\n",
    "    columns = [\"datetime\", \"open\", \"high\", \"low\", \"close\", \"volume\"]\n",
    "    df.columns = columns\n",
    "    return df\n",
    "\n",
    "def rename_technical(df_technical):\n",
    "    df_technical = df_technical.rename(columns = {\"Unnamed: 0\": \"datetime\"})\n",
    "    return df_technical\n",
    "\n",
    "def convert_datetime(df):\n",
    "    data = df.copy()\n",
    "    data[\"datetime\"] = pd.to_datetime(data[\"datetime\"])\n",
    "    return data\n",
    "\n",
    "def merge_columns(df_values, df_technical):\n",
    "    df_merged = df_values.merge(df_technical, how=\"inner\", on=\"datetime\")\n",
    "    return df_merged\n",
    "\n",
    "def clean_data(df):\n",
    "    df_inter = df.interpolate(method='linear')\n",
    "    df_clean = df_inter.dropna()\n",
    "    return df_clean\n",
    "\n",
    "def create_target(df, column_name, new_column_name='Target'):\n",
    "    result = []\n",
    "    for i in range(1, len(df)):\n",
    "        change_percent = (df[column_name].iloc[i] / df[column_name].iloc[i-1] - 1) * 100\n",
    "        if change_percent > 0.07:\n",
    "            result.append(1)\n",
    "        elif change_percent < -0.07:\n",
    "            result.append(-1)\n",
    "        else:\n",
    "            result.append(0)\n",
    "    \n",
    "    result.append(float('nan'))\n",
    "\n",
    "    df[new_column_name] = pd.Series(result, index=df.index)\n",
    "\n",
    "    return df\n",
    "\n",
    "def target_drop(df_final):\n",
    "    df_final = df_final.dropna()\n",
    "    return df_final\n",
    "\n",
    "def convert_time_sin_cos(df):\n",
    "    data = df.copy()\n",
    "    data['day_of_year'] = data['datetime'].dt.dayofyear\n",
    "    data['time_of_day'] = data['datetime'].dt.hour * 3600 + data['datetime'].dt.minute * 60 + data['datetime'].dt.second\n",
    "    data['day_of_year_norm'] = data['day_of_year'] / 365.0\n",
    "    data['time_of_day_norm'] = data['time_of_day'] / 86400.0\n",
    "    data['cos_time_of_day'] = np.cos(2 * np.pi * data['time_of_day_norm'])\n",
    "    data['sin_time_of_day'] = np.sin(2 * np.pi * data['time_of_day_norm'])\n",
    "    data[\"cos_day_of_year\"] = np.cos(2 * np.pi * data['day_of_year_norm'])\n",
    "    data[\"sin_day_of_year\"] = np.sin(2 * np.pi * data['day_of_year_norm'])\n",
    "    df_converted = data.drop(columns = [\"day_of_year\", \"time_of_day\", \"day_of_year_norm\", \"time_of_day_norm\", \"datetime\"])\n",
    "    return df_converted\n",
    "\n",
    "def log_divide_next(df):\n",
    "    log_returns = np.log(df['close'] / df['close'].shift(1))\n",
    "    return log_returns\n",
    "\n",
    "def split_into_categories(df, column_name, prefix='Category'):\n",
    "\n",
    "    df[f'{prefix}_1'] = (df[column_name] == 1).astype(int)\n",
    "    df[f'{prefix}_0'] = (df[column_name] == 0).astype(int)\n",
    "    df[f'{prefix}_-1'] = (df[column_name] == -1).astype(int)\n",
    "    \n",
    "    return df\n"
   ]
  },
  {
   "cell_type": "code",
   "execution_count": 9,
   "id": "24013826",
   "metadata": {},
   "outputs": [],
   "source": [
    "def create_x_y(df_data, df_technical, df_macroeconomic):\n",
    "    df_macroeconomic = rename_macroeconomic(df_macroeconomic)\n",
    "    df_technical = rename_technical(df_technical)\n",
    "    df_data = rename_columns(df_data)\n",
    "    df_technical = clean_data(df_technical)\n",
    "    df_data = convert_datetime(df_data)\n",
    "    df_technical = convert_datetime(df_technical)\n",
    "    df_macroeconomic = convert_datetime(df_macroeconomic)\n",
    "    df_technical = merge_macroeconomic(df_technical, df_macroeconomic)\n",
    "    df_merged = merge_columns(df_data, df_technical)\n",
    "#     df_target = create_target(df_merged, \"close\")\n",
    "#     df_final = target_drop(df_target)\n",
    "    df_time = convert_time_sin_cos(df_merged)\n",
    "    X = df_time.drop(columns = \"close\")\n",
    "    y = df_time[[\"close\"]]\n",
    "#     y = split_into_categories(y_initial, \"Target\")\n",
    "#     y = y.drop(columns = \"Target\")\n",
    "    log_df = log_divide_next(df_data).dropna()\n",
    "    return X, y, log_df"
   ]
  },
  {
   "cell_type": "code",
   "execution_count": 10,
   "id": "e8cf9957",
   "metadata": {},
   "outputs": [],
   "source": [
    "X, y, log_df = create_x_y(df_data, df_technical, df_macroeconomic)"
   ]
  },
  {
   "cell_type": "code",
   "execution_count": 11,
   "id": "5340b204",
   "metadata": {},
   "outputs": [],
   "source": [
    "X = X.drop(columns = [\"interest_rate\", \"GDP\", \"inflation\", \"cos_time_of_day\", \"sin_time_of_day\", \"cos_day_of_year\", \"sin_day_of_year\"])"
   ]
  },
  {
   "cell_type": "code",
   "execution_count": 12,
   "id": "4b1bd933",
   "metadata": {},
   "outputs": [
    {
     "data": {
      "text/html": [
       "<div>\n",
       "<style scoped>\n",
       "    .dataframe tbody tr th:only-of-type {\n",
       "        vertical-align: middle;\n",
       "    }\n",
       "\n",
       "    .dataframe tbody tr th {\n",
       "        vertical-align: top;\n",
       "    }\n",
       "\n",
       "    .dataframe thead th {\n",
       "        text-align: right;\n",
       "    }\n",
       "</style>\n",
       "<table border=\"1\" class=\"dataframe\">\n",
       "  <thead>\n",
       "    <tr style=\"text-align: right;\">\n",
       "      <th></th>\n",
       "      <th>open</th>\n",
       "      <th>high</th>\n",
       "      <th>low</th>\n",
       "      <th>volume</th>\n",
       "      <th>EMA</th>\n",
       "      <th>SlowK</th>\n",
       "      <th>SlowD</th>\n",
       "      <th>Real Upper Band</th>\n",
       "      <th>Real Middle Band</th>\n",
       "      <th>Real Lower Band</th>\n",
       "      <th>WILLR</th>\n",
       "      <th>ATR</th>\n",
       "      <th>CMO</th>\n",
       "      <th>MACD</th>\n",
       "      <th>MACD_Signal</th>\n",
       "      <th>MACD_Hist</th>\n",
       "      <th>RSI</th>\n",
       "      <th>OBV</th>\n",
       "      <th>SAR</th>\n",
       "    </tr>\n",
       "  </thead>\n",
       "  <tbody>\n",
       "    <tr>\n",
       "      <th>0</th>\n",
       "      <td>0.974</td>\n",
       "      <td>0.976</td>\n",
       "      <td>0.972</td>\n",
       "      <td>200088</td>\n",
       "      <td>0.9692</td>\n",
       "      <td>15.8120</td>\n",
       "      <td>21.5303</td>\n",
       "      <td>0.9879</td>\n",
       "      <td>0.9689</td>\n",
       "      <td>0.9498</td>\n",
       "      <td>-36.9565</td>\n",
       "      <td>0.0096</td>\n",
       "      <td>-4.9180</td>\n",
       "      <td>0.0015</td>\n",
       "      <td>0.0018</td>\n",
       "      <td>-0.0003</td>\n",
       "      <td>47.5410</td>\n",
       "      <td>438451328.0</td>\n",
       "      <td>0.9553</td>\n",
       "    </tr>\n",
       "    <tr>\n",
       "      <th>1</th>\n",
       "      <td>0.975</td>\n",
       "      <td>0.977</td>\n",
       "      <td>0.973</td>\n",
       "      <td>276920</td>\n",
       "      <td>0.9694</td>\n",
       "      <td>23.5897</td>\n",
       "      <td>18.5470</td>\n",
       "      <td>0.9874</td>\n",
       "      <td>0.9687</td>\n",
       "      <td>0.9500</td>\n",
       "      <td>-32.6087</td>\n",
       "      <td>0.0095</td>\n",
       "      <td>-4.3382</td>\n",
       "      <td>0.0014</td>\n",
       "      <td>0.0017</td>\n",
       "      <td>-0.0003</td>\n",
       "      <td>47.8309</td>\n",
       "      <td>438728248.0</td>\n",
       "      <td>0.9556</td>\n",
       "    </tr>\n",
       "    <tr>\n",
       "      <th>2</th>\n",
       "      <td>0.977</td>\n",
       "      <td>0.979</td>\n",
       "      <td>0.976</td>\n",
       "      <td>28000</td>\n",
       "      <td>0.9696</td>\n",
       "      <td>42.2711</td>\n",
       "      <td>27.2243</td>\n",
       "      <td>0.9871</td>\n",
       "      <td>0.9686</td>\n",
       "      <td>0.9502</td>\n",
       "      <td>-30.4348</td>\n",
       "      <td>0.0094</td>\n",
       "      <td>-3.1785</td>\n",
       "      <td>0.0014</td>\n",
       "      <td>0.0017</td>\n",
       "      <td>-0.0003</td>\n",
       "      <td>48.4108</td>\n",
       "      <td>438756248.0</td>\n",
       "      <td>0.9560</td>\n",
       "    </tr>\n",
       "    <tr>\n",
       "      <th>3</th>\n",
       "      <td>0.983</td>\n",
       "      <td>0.984</td>\n",
       "      <td>0.977</td>\n",
       "      <td>945448</td>\n",
       "      <td>0.9701</td>\n",
       "      <td>59.3651</td>\n",
       "      <td>41.7420</td>\n",
       "      <td>0.9872</td>\n",
       "      <td>0.9687</td>\n",
       "      <td>0.9501</td>\n",
       "      <td>-23.9130</td>\n",
       "      <td>0.0093</td>\n",
       "      <td>0.2056</td>\n",
       "      <td>0.0019</td>\n",
       "      <td>0.0017</td>\n",
       "      <td>0.0002</td>\n",
       "      <td>50.1028</td>\n",
       "      <td>439701696.0</td>\n",
       "      <td>0.9563</td>\n",
       "    </tr>\n",
       "    <tr>\n",
       "      <th>4</th>\n",
       "      <td>0.980</td>\n",
       "      <td>0.981</td>\n",
       "      <td>0.973</td>\n",
       "      <td>1277080</td>\n",
       "      <td>0.9704</td>\n",
       "      <td>59.9206</td>\n",
       "      <td>53.8523</td>\n",
       "      <td>0.9877</td>\n",
       "      <td>0.9690</td>\n",
       "      <td>0.9502</td>\n",
       "      <td>-30.4348</td>\n",
       "      <td>0.0093</td>\n",
       "      <td>-1.4381</td>\n",
       "      <td>0.0020</td>\n",
       "      <td>0.0018</td>\n",
       "      <td>0.0002</td>\n",
       "      <td>49.2809</td>\n",
       "      <td>438424616.0</td>\n",
       "      <td>0.9566</td>\n",
       "    </tr>\n",
       "    <tr>\n",
       "      <th>...</th>\n",
       "      <td>...</td>\n",
       "      <td>...</td>\n",
       "      <td>...</td>\n",
       "      <td>...</td>\n",
       "      <td>...</td>\n",
       "      <td>...</td>\n",
       "      <td>...</td>\n",
       "      <td>...</td>\n",
       "      <td>...</td>\n",
       "      <td>...</td>\n",
       "      <td>...</td>\n",
       "      <td>...</td>\n",
       "      <td>...</td>\n",
       "      <td>...</td>\n",
       "      <td>...</td>\n",
       "      <td>...</td>\n",
       "      <td>...</td>\n",
       "      <td>...</td>\n",
       "      <td>...</td>\n",
       "    </tr>\n",
       "    <tr>\n",
       "      <th>139305</th>\n",
       "      <td>187.606</td>\n",
       "      <td>187.691</td>\n",
       "      <td>187.385</td>\n",
       "      <td>74155</td>\n",
       "      <td>186.3144</td>\n",
       "      <td>25.9640</td>\n",
       "      <td>24.9908</td>\n",
       "      <td>189.5056</td>\n",
       "      <td>186.5133</td>\n",
       "      <td>183.5209</td>\n",
       "      <td>-12.5849</td>\n",
       "      <td>0.8169</td>\n",
       "      <td>21.7955</td>\n",
       "      <td>0.2165</td>\n",
       "      <td>0.2992</td>\n",
       "      <td>-0.0827</td>\n",
       "      <td>60.8978</td>\n",
       "      <td>-236197071.0</td>\n",
       "      <td>185.2389</td>\n",
       "    </tr>\n",
       "    <tr>\n",
       "      <th>139306</th>\n",
       "      <td>187.646</td>\n",
       "      <td>187.721</td>\n",
       "      <td>187.465</td>\n",
       "      <td>18421</td>\n",
       "      <td>186.3580</td>\n",
       "      <td>21.7473</td>\n",
       "      <td>24.7767</td>\n",
       "      <td>189.5095</td>\n",
       "      <td>186.5731</td>\n",
       "      <td>183.6367</td>\n",
       "      <td>-12.7971</td>\n",
       "      <td>0.8075</td>\n",
       "      <td>22.0006</td>\n",
       "      <td>0.1973</td>\n",
       "      <td>0.2788</td>\n",
       "      <td>-0.0815</td>\n",
       "      <td>61.0003</td>\n",
       "      <td>-236215492.0</td>\n",
       "      <td>185.6169</td>\n",
       "    </tr>\n",
       "    <tr>\n",
       "      <th>139307</th>\n",
       "      <td>187.666</td>\n",
       "      <td>187.771</td>\n",
       "      <td>187.565</td>\n",
       "      <td>14248</td>\n",
       "      <td>186.4009</td>\n",
       "      <td>18.2488</td>\n",
       "      <td>21.9867</td>\n",
       "      <td>189.4830</td>\n",
       "      <td>186.6418</td>\n",
       "      <td>183.8005</td>\n",
       "      <td>-13.1508</td>\n",
       "      <td>0.7975</td>\n",
       "      <td>22.1045</td>\n",
       "      <td>0.1815</td>\n",
       "      <td>0.2593</td>\n",
       "      <td>-0.0778</td>\n",
       "      <td>61.0523</td>\n",
       "      <td>-236229740.0</td>\n",
       "      <td>185.9609</td>\n",
       "    </tr>\n",
       "    <tr>\n",
       "      <th>139308</th>\n",
       "      <td>187.576</td>\n",
       "      <td>187.641</td>\n",
       "      <td>187.425</td>\n",
       "      <td>13909</td>\n",
       "      <td>186.4394</td>\n",
       "      <td>14.1992</td>\n",
       "      <td>18.0651</td>\n",
       "      <td>189.4453</td>\n",
       "      <td>186.7083</td>\n",
       "      <td>183.9713</td>\n",
       "      <td>-13.2923</td>\n",
       "      <td>0.7878</td>\n",
       "      <td>21.3648</td>\n",
       "      <td>0.1600</td>\n",
       "      <td>0.2395</td>\n",
       "      <td>-0.0795</td>\n",
       "      <td>60.6824</td>\n",
       "      <td>-236243649.0</td>\n",
       "      <td>186.2739</td>\n",
       "    </tr>\n",
       "    <tr>\n",
       "      <th>139309</th>\n",
       "      <td>187.536</td>\n",
       "      <td>187.751</td>\n",
       "      <td>187.515</td>\n",
       "      <td>19526</td>\n",
       "      <td>186.4754</td>\n",
       "      <td>24.0027</td>\n",
       "      <td>18.8169</td>\n",
       "      <td>189.3709</td>\n",
       "      <td>186.7799</td>\n",
       "      <td>184.1889</td>\n",
       "      <td>-13.1508</td>\n",
       "      <td>0.7786</td>\n",
       "      <td>21.0334</td>\n",
       "      <td>0.1381</td>\n",
       "      <td>0.2192</td>\n",
       "      <td>-0.0811</td>\n",
       "      <td>60.5167</td>\n",
       "      <td>-236224123.0</td>\n",
       "      <td>186.5588</td>\n",
       "    </tr>\n",
       "  </tbody>\n",
       "</table>\n",
       "<p>139310 rows × 19 columns</p>\n",
       "</div>"
      ],
      "text/plain": [
       "           open     high      low   volume       EMA    SlowK    SlowD  \\\n",
       "0         0.974    0.976    0.972   200088    0.9692  15.8120  21.5303   \n",
       "1         0.975    0.977    0.973   276920    0.9694  23.5897  18.5470   \n",
       "2         0.977    0.979    0.976    28000    0.9696  42.2711  27.2243   \n",
       "3         0.983    0.984    0.977   945448    0.9701  59.3651  41.7420   \n",
       "4         0.980    0.981    0.973  1277080    0.9704  59.9206  53.8523   \n",
       "...         ...      ...      ...      ...       ...      ...      ...   \n",
       "139305  187.606  187.691  187.385    74155  186.3144  25.9640  24.9908   \n",
       "139306  187.646  187.721  187.465    18421  186.3580  21.7473  24.7767   \n",
       "139307  187.666  187.771  187.565    14248  186.4009  18.2488  21.9867   \n",
       "139308  187.576  187.641  187.425    13909  186.4394  14.1992  18.0651   \n",
       "139309  187.536  187.751  187.515    19526  186.4754  24.0027  18.8169   \n",
       "\n",
       "        Real Upper Band  Real Middle Band  Real Lower Band    WILLR     ATR  \\\n",
       "0                0.9879            0.9689           0.9498 -36.9565  0.0096   \n",
       "1                0.9874            0.9687           0.9500 -32.6087  0.0095   \n",
       "2                0.9871            0.9686           0.9502 -30.4348  0.0094   \n",
       "3                0.9872            0.9687           0.9501 -23.9130  0.0093   \n",
       "4                0.9877            0.9690           0.9502 -30.4348  0.0093   \n",
       "...                 ...               ...              ...      ...     ...   \n",
       "139305         189.5056          186.5133         183.5209 -12.5849  0.8169   \n",
       "139306         189.5095          186.5731         183.6367 -12.7971  0.8075   \n",
       "139307         189.4830          186.6418         183.8005 -13.1508  0.7975   \n",
       "139308         189.4453          186.7083         183.9713 -13.2923  0.7878   \n",
       "139309         189.3709          186.7799         184.1889 -13.1508  0.7786   \n",
       "\n",
       "            CMO    MACD  MACD_Signal  MACD_Hist      RSI          OBV  \\\n",
       "0       -4.9180  0.0015       0.0018    -0.0003  47.5410  438451328.0   \n",
       "1       -4.3382  0.0014       0.0017    -0.0003  47.8309  438728248.0   \n",
       "2       -3.1785  0.0014       0.0017    -0.0003  48.4108  438756248.0   \n",
       "3        0.2056  0.0019       0.0017     0.0002  50.1028  439701696.0   \n",
       "4       -1.4381  0.0020       0.0018     0.0002  49.2809  438424616.0   \n",
       "...         ...     ...          ...        ...      ...          ...   \n",
       "139305  21.7955  0.2165       0.2992    -0.0827  60.8978 -236197071.0   \n",
       "139306  22.0006  0.1973       0.2788    -0.0815  61.0003 -236215492.0   \n",
       "139307  22.1045  0.1815       0.2593    -0.0778  61.0523 -236229740.0   \n",
       "139308  21.3648  0.1600       0.2395    -0.0795  60.6824 -236243649.0   \n",
       "139309  21.0334  0.1381       0.2192    -0.0811  60.5167 -236224123.0   \n",
       "\n",
       "             SAR  \n",
       "0         0.9553  \n",
       "1         0.9556  \n",
       "2         0.9560  \n",
       "3         0.9563  \n",
       "4         0.9566  \n",
       "...          ...  \n",
       "139305  185.2389  \n",
       "139306  185.6169  \n",
       "139307  185.9609  \n",
       "139308  186.2739  \n",
       "139309  186.5588  \n",
       "\n",
       "[139310 rows x 19 columns]"
      ]
     },
     "execution_count": 12,
     "metadata": {},
     "output_type": "execute_result"
    }
   ],
   "source": [
    "X"
   ]
  },
  {
   "cell_type": "code",
   "execution_count": 13,
   "id": "fcedc0f7",
   "metadata": {},
   "outputs": [],
   "source": [
    "X_train = X[:112000] #.reset_index(drop=True)\n",
    "X_test = X[112000:]\n",
    "y_train = y[:112000]\n",
    "y_test = y[112000:]"
   ]
  },
  {
   "cell_type": "code",
   "execution_count": 14,
   "id": "e97a29a0",
   "metadata": {},
   "outputs": [],
   "source": [
    "X_val = X_train[105000:]\n",
    "y_val = y_train[105000:]"
   ]
  },
  {
   "cell_type": "code",
   "execution_count": 15,
   "id": "90561af0",
   "metadata": {},
   "outputs": [],
   "source": [
    "X_train = X_train[:105000]"
   ]
  },
  {
   "cell_type": "code",
   "execution_count": 16,
   "id": "f014f68c",
   "metadata": {},
   "outputs": [],
   "source": [
    "y_train = y_train[:105000]"
   ]
  },
  {
   "cell_type": "code",
   "execution_count": 17,
   "id": "c9a5ce40",
   "metadata": {},
   "outputs": [],
   "source": [
    "def initialize_scaler(X_train):\n",
    "    mm_scaler = MinMaxScaler().set_output(transform=\"pandas\")\n",
    "    scaler_trained = mm_scaler.fit(X_train)\n",
    "    return scaler_trained\n",
    "\n",
    "def transform_scaler(scaler_trained, X):\n",
    "    scaled_data = scaler_trained.transform(X)\n",
    "    return scaled_data"
   ]
  },
  {
   "cell_type": "code",
   "execution_count": 18,
   "id": "6fb44a2e",
   "metadata": {},
   "outputs": [],
   "source": [
    "scaler = initialize_scaler(X_train)\n",
    "X_train_scaled = transform_scaler(scaler, X_train)\n",
    "X_test_scaled = transform_scaler(scaler, X_test)\n",
    "X_val_scaled = transform_scaler(scaler, X_val)"
   ]
  },
  {
   "cell_type": "code",
   "execution_count": 19,
   "id": "942a8332",
   "metadata": {},
   "outputs": [],
   "source": [
    "def create_lstm_windows(X_scaled, y, window_size):\n",
    "\n",
    "    X_windows = []\n",
    "    y_windows = []\n",
    "\n",
    "    for i in range(len(X_scaled) - window_size):\n",
    "        X_windows.append(X_scaled.iloc[i:i + window_size].values)\n",
    "        y_windows.append(y.iloc[i + window_size])\n",
    "\n",
    "    return np.array(X_windows), np.array(y_windows)"
   ]
  },
  {
   "cell_type": "code",
   "execution_count": 20,
   "id": "4d70245e",
   "metadata": {},
   "outputs": [],
   "source": [
    "X_train_windows, y_train_windows = create_lstm_windows(X_train_scaled, y_train, window_size = 20)"
   ]
  },
  {
   "cell_type": "code",
   "execution_count": 21,
   "id": "938261f2",
   "metadata": {},
   "outputs": [],
   "source": [
    "X_test_windows, y_test_windows = create_lstm_windows(X_test_scaled, y_test, window_size = 20)"
   ]
  },
  {
   "cell_type": "code",
   "execution_count": 22,
   "id": "181ace4e",
   "metadata": {},
   "outputs": [],
   "source": [
    "X_val_windows, y_val_windows = create_lstm_windows(X_val_scaled, y_val, window_size=20)"
   ]
  },
  {
   "cell_type": "code",
   "execution_count": 23,
   "id": "013d60f8",
   "metadata": {},
   "outputs": [
    {
     "data": {
      "text/plain": [
       "(104980, 20, 19)"
      ]
     },
     "execution_count": 23,
     "metadata": {},
     "output_type": "execute_result"
    }
   ],
   "source": [
    "X_train_windows.shape"
   ]
  },
  {
   "cell_type": "code",
   "execution_count": 25,
   "id": "3e8e46e6",
   "metadata": {},
   "outputs": [],
   "source": [
    "reg_l2 = regularizers.L2(0.01)"
   ]
  },
  {
   "cell_type": "code",
   "execution_count": 26,
   "id": "a5a282c7",
   "metadata": {},
   "outputs": [],
   "source": [
    "#This one seems to be working well\n",
    "\n",
    "# model = Sequential()\n",
    "# model.add(layers.LSTM(units = 50, activation = 'relu', return_sequences=True ,input_shape = (15, 19)))\n",
    "\n",
    "# model.add(layers.LSTM(units = 50 , activation = 'relu', return_sequences=True, kernel_regularizer=reg_l2))\n",
    "\n",
    "# model.add(layers.LSTM(units = 50, activation = 'relu', return_sequences=False, kernel_regularizer=reg_l2))\n",
    "\n",
    "# model.add(layers.Dense(units = 10, activation = 'relu', kernel_regularizer=reg_l2))\n",
    "# model.add(layers.Dropout(0.1))\n",
    "\n",
    "# model.add(layers.Dense(units = 1, activation=\"linear\"))"
   ]
  },
  {
   "cell_type": "code",
   "execution_count": 27,
   "id": "b7e3ad13",
   "metadata": {},
   "outputs": [],
   "source": [
    "# model = Sequential()\n",
    "# model.add(layers.LSTM(units = 50, activation = 'relu', return_sequences=True ,input_shape = (15, 19)))\n",
    "\n",
    "# model.add(layers.LSTM(units = 50 , activation = 'relu', return_sequences=True, kernel_regularizer=reg_l1))\n",
    "\n",
    "# model.add(layers.LSTM(units = 50, activation = 'relu', return_sequences=False, kernel_regularizer=reg_l1))\n",
    "\n",
    "# model.add(layers.Dense(units = 20, activation = 'relu'))\n",
    "# model.add(layers.Dropout(0.1))\n",
    "\n",
    "# model.add(layers.Dense(units = 1, activation=\"linear\"))"
   ]
  },
  {
   "cell_type": "code",
   "execution_count": 28,
   "id": "5fb8b6c5",
   "metadata": {},
   "outputs": [
    {
     "name": "stderr",
     "output_type": "stream",
     "text": [
      "WARNING: All log messages before absl::InitializeLog() is called are written to STDERR\n",
      "I0000 00:00:1725011646.985505  321266 cuda_executor.cc:1001] could not open file to read NUMA node: /sys/bus/pci/devices/0000:01:00.0/numa_node\n",
      "Your kernel may have been built without NUMA support.\n",
      "2024-08-30 10:54:06.985746: W tensorflow/core/common_runtime/gpu/gpu_device.cc:2343] Cannot dlopen some GPU libraries. Please make sure the missing libraries mentioned above are installed properly if you would like to use GPU. Follow the guide at https://www.tensorflow.org/install/gpu for how to download and setup the required libraries for your platform.\n",
      "Skipping registering GPU devices...\n"
     ]
    }
   ],
   "source": [
    "reg_l1 = regularizers.L1(0.01)"
   ]
  },
  {
   "cell_type": "code",
   "execution_count": 29,
   "id": "befdd8a7",
   "metadata": {},
   "outputs": [],
   "source": [
    "# model = Sequential()\n",
    "# model.add(layers.LSTM(units = 50, activation = 'relu', return_sequences=True ,input_shape = (15, 19)))\n",
    "\n",
    "# model.add(layers.LSTM(units = 50 , activation = 'relu', return_sequences=True, kernel_regularizer=reg_l1))\n",
    "\n",
    "# model.add(layers.LSTM(units = 50, activation = 'relu', return_sequences=False, kernel_regularizer=reg_l1))\n",
    "\n",
    "# model.add(layers.Dense(units = 20, activation = 'relu'))\n",
    "# model.add(layers.Dropout(0.1))\n",
    "\n",
    "# model.add(layers.Dense(units = 1, activation=\"linear\"))\n",
    "\n",
    "\n",
    "# model.compile(optimizer=\"rmsprop\", loss = \"mse\", metrics = [\"mae\"])\n",
    "\n",
    "# history = model.fit(X_train_windows, y_train_windows, epochs = 100, batch_size = 16, validation_data=(X_val_windows, y_val_windows), callbacks=[es])"
   ]
  },
  {
   "cell_type": "code",
   "execution_count": 60,
   "id": "0f66aa3a",
   "metadata": {},
   "outputs": [
    {
     "name": "stderr",
     "output_type": "stream",
     "text": [
      "/home/yurko/.pyenv/versions/3.10.6/envs/lewagon/lib/python3.10/site-packages/keras/src/layers/rnn/rnn.py:204: UserWarning: Do not pass an `input_shape`/`input_dim` argument to a layer. When using Sequential models, prefer using an `Input(shape)` object as the first layer in the model instead.\n",
      "  super().__init__(**kwargs)\n"
     ]
    }
   ],
   "source": [
    "model = Sequential()\n",
    "model.add(layers.LSTM(units = 50, activation = 'relu', return_sequences=True ,input_shape = (15, 19)))\n",
    "\n",
    "model.add(layers.LSTM(units = 50 , activation = 'relu', return_sequences=True, kernel_regularizer=reg_l1))\n",
    "\n",
    "model.add(layers.LSTM(units = 50, activation = 'relu', return_sequences=False, kernel_regularizer=reg_l1))\n",
    "\n",
    "model.add(layers.Dense(units = 20, activation = 'relu'))\n",
    "model.add(layers.Dropout(0.1))\n",
    "\n",
    "model.add(layers.Dense(units = 1, activation=\"linear\"))"
   ]
  },
  {
   "cell_type": "code",
   "execution_count": 61,
   "id": "3cbc197d",
   "metadata": {},
   "outputs": [],
   "source": [
    "es = EarlyStopping(patience=3, restore_best_weights=True)"
   ]
  },
  {
   "cell_type": "code",
   "execution_count": 62,
   "id": "9a8f4feb",
   "metadata": {},
   "outputs": [],
   "source": [
    "model.compile(optimizer=\"adam\", loss = \"mse\", metrics = [\"mae\"])"
   ]
  },
  {
   "cell_type": "code",
   "execution_count": 63,
   "id": "10e89696",
   "metadata": {},
   "outputs": [
    {
     "name": "stdout",
     "output_type": "stream",
     "text": [
      "Epoch 1/15\n",
      "\u001b[1m1641/1641\u001b[0m \u001b[32m━━━━━━━━━━━━━━━━━━━━\u001b[0m\u001b[37m\u001b[0m \u001b[1m22s\u001b[0m 12ms/step - loss: 42.0728 - mae: 2.8071 - val_loss: 28.4143 - val_mae: 3.8829\n",
      "Epoch 2/15\n",
      "\u001b[1m1641/1641\u001b[0m \u001b[32m━━━━━━━━━━━━━━━━━━━━\u001b[0m\u001b[37m\u001b[0m \u001b[1m20s\u001b[0m 12ms/step - loss: 6.8956 - mae: 1.3679 - val_loss: 6.0685 - val_mae: 1.4377\n",
      "Epoch 3/15\n",
      "\u001b[1m1641/1641\u001b[0m \u001b[32m━━━━━━━━━━━━━━━━━━━━\u001b[0m\u001b[37m\u001b[0m \u001b[1m22s\u001b[0m 13ms/step - loss: 5.8512 - mae: 1.3280 - val_loss: 5.2918 - val_mae: 1.5675\n",
      "Epoch 4/15\n",
      "\u001b[1m1641/1641\u001b[0m \u001b[32m━━━━━━━━━━━━━━━━━━━━\u001b[0m\u001b[37m\u001b[0m \u001b[1m21s\u001b[0m 13ms/step - loss: 5.1131 - mae: 1.3046 - val_loss: 21.1488 - val_mae: 3.8247\n",
      "Epoch 5/15\n",
      "\u001b[1m1641/1641\u001b[0m \u001b[32m━━━━━━━━━━━━━━━━━━━━\u001b[0m\u001b[37m\u001b[0m \u001b[1m26s\u001b[0m 16ms/step - loss: 4.6226 - mae: 1.2582 - val_loss: 10.3110 - val_mae: 2.7230\n",
      "Epoch 6/15\n",
      "\u001b[1m1641/1641\u001b[0m \u001b[32m━━━━━━━━━━━━━━━━━━━━\u001b[0m\u001b[37m\u001b[0m \u001b[1m22s\u001b[0m 14ms/step - loss: 4.2140 - mae: 1.2172 - val_loss: 7.4409 - val_mae: 2.4206\n"
     ]
    }
   ],
   "source": [
    "history = model.fit(X_train_windows, y_train_windows, epochs = 15, batch_size = 64, validation_data=(X_val_windows, y_val_windows), callbacks=[es])"
   ]
  },
  {
   "cell_type": "code",
   "execution_count": 64,
   "id": "5ed83e77",
   "metadata": {},
   "outputs": [
    {
     "name": "stdout",
     "output_type": "stream",
     "text": [
      "\u001b[1m853/853\u001b[0m \u001b[32m━━━━━━━━━━━━━━━━━━━━\u001b[0m\u001b[37m\u001b[0m \u001b[1m3s\u001b[0m 3ms/step\n"
     ]
    }
   ],
   "source": [
    "y_preds = model.predict(X_test_windows)"
   ]
  },
  {
   "cell_type": "code",
   "execution_count": 65,
   "id": "7982d505",
   "metadata": {},
   "outputs": [],
   "source": [
    "y_preds = pd.DataFrame(y_preds)"
   ]
  },
  {
   "cell_type": "code",
   "execution_count": 66,
   "id": "5618b7b6",
   "metadata": {},
   "outputs": [],
   "source": [
    "y_preds.columns = [\"preds\"]"
   ]
  },
  {
   "cell_type": "code",
   "execution_count": 67,
   "id": "61ea0fde",
   "metadata": {},
   "outputs": [
    {
     "data": {
      "text/html": [
       "<div>\n",
       "<style scoped>\n",
       "    .dataframe tbody tr th:only-of-type {\n",
       "        vertical-align: middle;\n",
       "    }\n",
       "\n",
       "    .dataframe tbody tr th {\n",
       "        vertical-align: top;\n",
       "    }\n",
       "\n",
       "    .dataframe thead th {\n",
       "        text-align: right;\n",
       "    }\n",
       "</style>\n",
       "<table border=\"1\" class=\"dataframe\">\n",
       "  <thead>\n",
       "    <tr style=\"text-align: right;\">\n",
       "      <th></th>\n",
       "      <th>preds</th>\n",
       "    </tr>\n",
       "  </thead>\n",
       "  <tbody>\n",
       "    <tr>\n",
       "      <th>0</th>\n",
       "      <td>63.929249</td>\n",
       "    </tr>\n",
       "    <tr>\n",
       "      <th>1</th>\n",
       "      <td>63.952606</td>\n",
       "    </tr>\n",
       "    <tr>\n",
       "      <th>2</th>\n",
       "      <td>63.988701</td>\n",
       "    </tr>\n",
       "    <tr>\n",
       "      <th>3</th>\n",
       "      <td>64.040512</td>\n",
       "    </tr>\n",
       "    <tr>\n",
       "      <th>4</th>\n",
       "      <td>64.002777</td>\n",
       "    </tr>\n",
       "    <tr>\n",
       "      <th>...</th>\n",
       "      <td>...</td>\n",
       "    </tr>\n",
       "    <tr>\n",
       "      <th>27285</th>\n",
       "      <td>152.327148</td>\n",
       "    </tr>\n",
       "    <tr>\n",
       "      <th>27286</th>\n",
       "      <td>150.297058</td>\n",
       "    </tr>\n",
       "    <tr>\n",
       "      <th>27287</th>\n",
       "      <td>154.587646</td>\n",
       "    </tr>\n",
       "    <tr>\n",
       "      <th>27288</th>\n",
       "      <td>149.741058</td>\n",
       "    </tr>\n",
       "    <tr>\n",
       "      <th>27289</th>\n",
       "      <td>155.386292</td>\n",
       "    </tr>\n",
       "  </tbody>\n",
       "</table>\n",
       "<p>27290 rows × 1 columns</p>\n",
       "</div>"
      ],
      "text/plain": [
       "            preds\n",
       "0       63.929249\n",
       "1       63.952606\n",
       "2       63.988701\n",
       "3       64.040512\n",
       "4       64.002777\n",
       "...           ...\n",
       "27285  152.327148\n",
       "27286  150.297058\n",
       "27287  154.587646\n",
       "27288  149.741058\n",
       "27289  155.386292\n",
       "\n",
       "[27290 rows x 1 columns]"
      ]
     },
     "execution_count": 67,
     "metadata": {},
     "output_type": "execute_result"
    }
   ],
   "source": [
    "y_preds"
   ]
  },
  {
   "cell_type": "code",
   "execution_count": 68,
   "id": "035cc4f2",
   "metadata": {},
   "outputs": [],
   "source": [
    "target = create_target(y_preds, \"preds\")"
   ]
  },
  {
   "cell_type": "code",
   "execution_count": 69,
   "id": "da97f7c8",
   "metadata": {},
   "outputs": [
    {
     "data": {
      "text/html": [
       "<div>\n",
       "<style scoped>\n",
       "    .dataframe tbody tr th:only-of-type {\n",
       "        vertical-align: middle;\n",
       "    }\n",
       "\n",
       "    .dataframe tbody tr th {\n",
       "        vertical-align: top;\n",
       "    }\n",
       "\n",
       "    .dataframe thead th {\n",
       "        text-align: right;\n",
       "    }\n",
       "</style>\n",
       "<table border=\"1\" class=\"dataframe\">\n",
       "  <thead>\n",
       "    <tr style=\"text-align: right;\">\n",
       "      <th></th>\n",
       "      <th>preds</th>\n",
       "      <th>Target</th>\n",
       "    </tr>\n",
       "  </thead>\n",
       "  <tbody>\n",
       "    <tr>\n",
       "      <th>0</th>\n",
       "      <td>63.929249</td>\n",
       "      <td>0.0</td>\n",
       "    </tr>\n",
       "    <tr>\n",
       "      <th>1</th>\n",
       "      <td>63.952606</td>\n",
       "      <td>0.0</td>\n",
       "    </tr>\n",
       "    <tr>\n",
       "      <th>2</th>\n",
       "      <td>63.988701</td>\n",
       "      <td>1.0</td>\n",
       "    </tr>\n",
       "    <tr>\n",
       "      <th>3</th>\n",
       "      <td>64.040512</td>\n",
       "      <td>0.0</td>\n",
       "    </tr>\n",
       "    <tr>\n",
       "      <th>4</th>\n",
       "      <td>64.002777</td>\n",
       "      <td>-1.0</td>\n",
       "    </tr>\n",
       "    <tr>\n",
       "      <th>...</th>\n",
       "      <td>...</td>\n",
       "      <td>...</td>\n",
       "    </tr>\n",
       "    <tr>\n",
       "      <th>27284</th>\n",
       "      <td>150.388306</td>\n",
       "      <td>1.0</td>\n",
       "    </tr>\n",
       "    <tr>\n",
       "      <th>27285</th>\n",
       "      <td>152.327148</td>\n",
       "      <td>-1.0</td>\n",
       "    </tr>\n",
       "    <tr>\n",
       "      <th>27286</th>\n",
       "      <td>150.297058</td>\n",
       "      <td>1.0</td>\n",
       "    </tr>\n",
       "    <tr>\n",
       "      <th>27287</th>\n",
       "      <td>154.587646</td>\n",
       "      <td>-1.0</td>\n",
       "    </tr>\n",
       "    <tr>\n",
       "      <th>27288</th>\n",
       "      <td>149.741058</td>\n",
       "      <td>1.0</td>\n",
       "    </tr>\n",
       "  </tbody>\n",
       "</table>\n",
       "<p>27289 rows × 2 columns</p>\n",
       "</div>"
      ],
      "text/plain": [
       "            preds  Target\n",
       "0       63.929249     0.0\n",
       "1       63.952606     0.0\n",
       "2       63.988701     1.0\n",
       "3       64.040512     0.0\n",
       "4       64.002777    -1.0\n",
       "...           ...     ...\n",
       "27284  150.388306     1.0\n",
       "27285  152.327148    -1.0\n",
       "27286  150.297058     1.0\n",
       "27287  154.587646    -1.0\n",
       "27288  149.741058     1.0\n",
       "\n",
       "[27289 rows x 2 columns]"
      ]
     },
     "execution_count": 69,
     "metadata": {},
     "output_type": "execute_result"
    }
   ],
   "source": [
    "target.dropna()"
   ]
  },
  {
   "cell_type": "code",
   "execution_count": 70,
   "id": "eb38379b",
   "metadata": {},
   "outputs": [],
   "source": [
    "y_actual = pd.DataFrame(y_test_windows)"
   ]
  },
  {
   "cell_type": "code",
   "execution_count": 71,
   "id": "bb0ed524",
   "metadata": {},
   "outputs": [],
   "source": [
    "y_actual.columns = [\"actual_target\"]"
   ]
  },
  {
   "cell_type": "code",
   "execution_count": 72,
   "id": "735ee43d",
   "metadata": {},
   "outputs": [],
   "source": [
    "y_actual_target = create_target(y_actual, \"actual_target\")"
   ]
  },
  {
   "cell_type": "code",
   "execution_count": 73,
   "id": "8ea72d45",
   "metadata": {},
   "outputs": [],
   "source": [
    "y_actual_target = y_actual_target.dropna()"
   ]
  },
  {
   "cell_type": "code",
   "execution_count": 74,
   "id": "07f13850",
   "metadata": {},
   "outputs": [],
   "source": [
    "y_preds_target = y_preds.drop(columns = \"preds\").dropna()"
   ]
  },
  {
   "cell_type": "code",
   "execution_count": 75,
   "id": "623fb292",
   "metadata": {},
   "outputs": [
    {
     "data": {
      "text/html": [
       "<div>\n",
       "<style scoped>\n",
       "    .dataframe tbody tr th:only-of-type {\n",
       "        vertical-align: middle;\n",
       "    }\n",
       "\n",
       "    .dataframe tbody tr th {\n",
       "        vertical-align: top;\n",
       "    }\n",
       "\n",
       "    .dataframe thead th {\n",
       "        text-align: right;\n",
       "    }\n",
       "</style>\n",
       "<table border=\"1\" class=\"dataframe\">\n",
       "  <thead>\n",
       "    <tr style=\"text-align: right;\">\n",
       "      <th></th>\n",
       "      <th>Target</th>\n",
       "    </tr>\n",
       "  </thead>\n",
       "  <tbody>\n",
       "    <tr>\n",
       "      <th>0</th>\n",
       "      <td>0.0</td>\n",
       "    </tr>\n",
       "    <tr>\n",
       "      <th>1</th>\n",
       "      <td>0.0</td>\n",
       "    </tr>\n",
       "    <tr>\n",
       "      <th>2</th>\n",
       "      <td>1.0</td>\n",
       "    </tr>\n",
       "    <tr>\n",
       "      <th>3</th>\n",
       "      <td>0.0</td>\n",
       "    </tr>\n",
       "    <tr>\n",
       "      <th>4</th>\n",
       "      <td>-1.0</td>\n",
       "    </tr>\n",
       "    <tr>\n",
       "      <th>...</th>\n",
       "      <td>...</td>\n",
       "    </tr>\n",
       "    <tr>\n",
       "      <th>27284</th>\n",
       "      <td>1.0</td>\n",
       "    </tr>\n",
       "    <tr>\n",
       "      <th>27285</th>\n",
       "      <td>-1.0</td>\n",
       "    </tr>\n",
       "    <tr>\n",
       "      <th>27286</th>\n",
       "      <td>1.0</td>\n",
       "    </tr>\n",
       "    <tr>\n",
       "      <th>27287</th>\n",
       "      <td>-1.0</td>\n",
       "    </tr>\n",
       "    <tr>\n",
       "      <th>27288</th>\n",
       "      <td>1.0</td>\n",
       "    </tr>\n",
       "  </tbody>\n",
       "</table>\n",
       "<p>27289 rows × 1 columns</p>\n",
       "</div>"
      ],
      "text/plain": [
       "       Target\n",
       "0         0.0\n",
       "1         0.0\n",
       "2         1.0\n",
       "3         0.0\n",
       "4        -1.0\n",
       "...       ...\n",
       "27284     1.0\n",
       "27285    -1.0\n",
       "27286     1.0\n",
       "27287    -1.0\n",
       "27288     1.0\n",
       "\n",
       "[27289 rows x 1 columns]"
      ]
     },
     "execution_count": 75,
     "metadata": {},
     "output_type": "execute_result"
    }
   ],
   "source": [
    "y_preds_target"
   ]
  },
  {
   "cell_type": "code",
   "execution_count": 76,
   "id": "191b8eec",
   "metadata": {},
   "outputs": [
    {
     "data": {
      "text/html": [
       "<div>\n",
       "<style scoped>\n",
       "    .dataframe tbody tr th:only-of-type {\n",
       "        vertical-align: middle;\n",
       "    }\n",
       "\n",
       "    .dataframe tbody tr th {\n",
       "        vertical-align: top;\n",
       "    }\n",
       "\n",
       "    .dataframe thead th {\n",
       "        text-align: right;\n",
       "    }\n",
       "</style>\n",
       "<table border=\"1\" class=\"dataframe\">\n",
       "  <thead>\n",
       "    <tr style=\"text-align: right;\">\n",
       "      <th></th>\n",
       "      <th>actual_target</th>\n",
       "      <th>Target</th>\n",
       "    </tr>\n",
       "  </thead>\n",
       "  <tbody>\n",
       "    <tr>\n",
       "      <th>0</th>\n",
       "      <td>64.629</td>\n",
       "      <td>-1.0</td>\n",
       "    </tr>\n",
       "    <tr>\n",
       "      <th>1</th>\n",
       "      <td>64.495</td>\n",
       "      <td>1.0</td>\n",
       "    </tr>\n",
       "    <tr>\n",
       "      <th>2</th>\n",
       "      <td>64.983</td>\n",
       "      <td>-1.0</td>\n",
       "    </tr>\n",
       "    <tr>\n",
       "      <th>3</th>\n",
       "      <td>64.815</td>\n",
       "      <td>1.0</td>\n",
       "    </tr>\n",
       "    <tr>\n",
       "      <th>4</th>\n",
       "      <td>64.861</td>\n",
       "      <td>1.0</td>\n",
       "    </tr>\n",
       "    <tr>\n",
       "      <th>...</th>\n",
       "      <td>...</td>\n",
       "      <td>...</td>\n",
       "    </tr>\n",
       "    <tr>\n",
       "      <th>27284</th>\n",
       "      <td>187.644</td>\n",
       "      <td>0.0</td>\n",
       "    </tr>\n",
       "    <tr>\n",
       "      <th>27285</th>\n",
       "      <td>187.660</td>\n",
       "      <td>0.0</td>\n",
       "    </tr>\n",
       "    <tr>\n",
       "      <th>27286</th>\n",
       "      <td>187.630</td>\n",
       "      <td>0.0</td>\n",
       "    </tr>\n",
       "    <tr>\n",
       "      <th>27287</th>\n",
       "      <td>187.580</td>\n",
       "      <td>0.0</td>\n",
       "    </tr>\n",
       "    <tr>\n",
       "      <th>27288</th>\n",
       "      <td>187.560</td>\n",
       "      <td>0.0</td>\n",
       "    </tr>\n",
       "  </tbody>\n",
       "</table>\n",
       "<p>27289 rows × 2 columns</p>\n",
       "</div>"
      ],
      "text/plain": [
       "       actual_target  Target\n",
       "0             64.629    -1.0\n",
       "1             64.495     1.0\n",
       "2             64.983    -1.0\n",
       "3             64.815     1.0\n",
       "4             64.861     1.0\n",
       "...              ...     ...\n",
       "27284        187.644     0.0\n",
       "27285        187.660     0.0\n",
       "27286        187.630     0.0\n",
       "27287        187.580     0.0\n",
       "27288        187.560     0.0\n",
       "\n",
       "[27289 rows x 2 columns]"
      ]
     },
     "execution_count": 76,
     "metadata": {},
     "output_type": "execute_result"
    }
   ],
   "source": [
    "y_actual_target"
   ]
  },
  {
   "cell_type": "code",
   "execution_count": 77,
   "id": "9ece525b",
   "metadata": {},
   "outputs": [
    {
     "data": {
      "text/plain": [
       " 0.0    0.342262\n",
       " 1.0    0.340394\n",
       "-1.0    0.317344\n",
       "Name: Target, dtype: float64"
      ]
     },
     "execution_count": 77,
     "metadata": {},
     "output_type": "execute_result"
    }
   ],
   "source": [
    "y_actual_target[\"Target\"].value_counts(normalize = True)"
   ]
  },
  {
   "cell_type": "code",
   "execution_count": 81,
   "id": "d15e027b",
   "metadata": {},
   "outputs": [
    {
     "name": "stdout",
     "output_type": "stream",
     "text": [
      "Accuracy: 0.32654183004140863\n"
     ]
    }
   ],
   "source": [
    "correct_predictions = y_actual_target['Target'] == y_preds_target['Target']\n",
    "\n",
    "num_correct_predictions = correct_predictions.sum()\n",
    "\n",
    "total_predictions = len(y_actual_target)\n",
    "\n",
    "accuracy = num_correct_predictions / total_predictions\n",
    "\n",
    "print(f\"Accuracy: {accuracy}\")\n",
    "\n"
   ]
  },
  {
   "cell_type": "code",
   "execution_count": 79,
   "id": "f4f12ddb",
   "metadata": {},
   "outputs": [
    {
     "data": {
      "image/png": "[encoded data removed]",
      "text/plain": [
       "<Figure size 1400x700 with 1 Axes>"
      ]
     },
     "metadata": {},
     "output_type": "display_data"
    }
   ],
   "source": [
    "plot_stock_predictions(y_test_windows, y_preds[\"preds\"])"
   ]
  },
  {
   "cell_type": "code",
   "execution_count": 80,
   "id": "1ce23201",
   "metadata": {},
   "outputs": [
    {
     "name": "stderr",
     "output_type": "stream",
     "text": [
      "WARNING:absl:You are saving your model as an HDF5 file via `model.save()` or `keras.saving.save_model(model)`. This file format is considered legacy. We recommend using instead the native Keras format, e.g. `model.save('my_model.keras')` or `keras.saving.save_model(model, 'my_model.keras')`. \n"
     ]
    }
   ],
   "source": [
    "model.save(\"model_linear_second.h5\")"
   ]
  },
  {
   "cell_type": "code",
   "execution_count": 56,
   "id": "309da68c",
   "metadata": {},
   "outputs": [],
   "source": [
    "def create_target(df, column_name, new_column_name='Target'):\n",
    "    result = []\n",
    "    \n",
    "    for i in range(1, len(df)):\n",
    "        change_percent = (df[column_name].iloc[i] / df[column_name].iloc[i-1] - 1) * 100\n",
    "        if change_percent > 0.07:\n",
    "            result.append(1)\n",
    "        elif change_percent < -0.07:\n",
    "            result.append(-1)\n",
    "        else:\n",
    "            result.append(0)\n",
    "    \n",
    "    # Append NaN for the last row since it has no next row to compare\n",
    "    result.append(float('nan'))\n",
    "\n",
    "    # Add the results to the DataFrame as a new column\n",
    "    df[new_column_name] = result\n",
    "    \n",
    "    return df\n"
   ]
  },
  {
   "cell_type": "code",
   "execution_count": null,
   "id": "df8d91f9",
   "metadata": {},
   "outputs": [],
   "source": [
    "# model.save(\"model_initial.h5\")"
   ]
  },
  {
   "cell_type": "code",
   "execution_count": 55,
   "id": "ffb62373",
   "metadata": {},
   "outputs": [],
   "source": [
    "import matplotlib.pyplot as plt\n",
    "\n",
    "def plot_stock_predictions(actual_prices, predicted_prices, title=\"Apple Stock Price Prediction\"):\n",
    "    plt.figure(figsize=(14, 7))\n",
    "    plt.plot(actual_prices, color='blue', label='Actual Apple Stock Price')\n",
    "    plt.plot(predicted_prices, color='red', label='Predicted Apple Stock Price')\n",
    "    plt.title(title)\n",
    "    plt.xlabel('Time')\n",
    "    plt.ylabel('Stock Price')\n",
    "    plt.legend()\n",
    "    plt.show()"
   ]
  },
  {
   "cell_type": "code",
   "execution_count": null,
   "id": "f989b414",
   "metadata": {},
   "outputs": [],
   "source": []
  }
 ],
 "metadata": {
  "kernelspec": {
   "display_name": "Python 3 (ipykernel)",
   "language": "python",
   "name": "python3"
  },
  "language_info": {
   "codemirror_mode": {
    "name": "ipython",
    "version": 3
   },
   "file_extension": ".py",
   "mimetype": "text/x-python",
   "name": "python",
   "nbconvert_exporter": "python",
   "pygments_lexer": "ipython3",
   "version": "3.10.6"
  },
  "toc": {
   "base_numbering": 1,
   "nav_menu": {},
   "number_sections": true,
   "sideBar": true,
   "skip_h1_title": false,
   "title_cell": "Table of Contents",
   "title_sidebar": "Contents",
   "toc_cell": false,
   "toc_position": {},
   "toc_section_display": true,
   "toc_window_display": false
  }
 },
 "nbformat": 4,
 "nbformat_minor": 5
}
