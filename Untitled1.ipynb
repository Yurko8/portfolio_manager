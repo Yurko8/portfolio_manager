{
 "cells": [
  {
   "cell_type": "code",
   "execution_count": 1,
   "id": "ec04380e",
   "metadata": {},
   "outputs": [
    {
     "name": "stderr",
     "output_type": "stream",
     "text": [
      "2024-09-03 14:58:59.755481: I tensorflow/core/util/port.cc:153] oneDNN custom operations are on. You may see slightly different numerical results due to floating-point round-off errors from different computation orders. To turn them off, set the environment variable `TF_ENABLE_ONEDNN_OPTS=0`.\n",
      "2024-09-03 14:58:59.755998: I external/local_xla/xla/tsl/cuda/cudart_stub.cc:32] Could not find cuda drivers on your machine, GPU will not be used.\n",
      "2024-09-03 14:58:59.757880: I external/local_xla/xla/tsl/cuda/cudart_stub.cc:32] Could not find cuda drivers on your machine, GPU will not be used.\n",
      "2024-09-03 14:58:59.763145: E external/local_xla/xla/stream_executor/cuda/cuda_fft.cc:485] Unable to register cuFFT factory: Attempting to register factory for plugin cuFFT when one has already been registered\n",
      "2024-09-03 14:58:59.771760: E external/local_xla/xla/stream_executor/cuda/cuda_dnn.cc:8454] Unable to register cuDNN factory: Attempting to register factory for plugin cuDNN when one has already been registered\n",
      "2024-09-03 14:58:59.774380: E external/local_xla/xla/stream_executor/cuda/cuda_blas.cc:1452] Unable to register cuBLAS factory: Attempting to register factory for plugin cuBLAS when one has already been registered\n",
      "2024-09-03 14:58:59.781610: I tensorflow/core/platform/cpu_feature_guard.cc:210] This TensorFlow binary is optimized to use available CPU instructions in performance-critical operations.\n",
      "To enable the following instructions: AVX2 AVX_VNNI FMA, in other operations, rebuild TensorFlow with the appropriate compiler flags.\n",
      "2024-09-03 14:59:00.319015: W tensorflow/compiler/tf2tensorrt/utils/py_utils.cc:38] TF-TRT Warning: Could not find TensorRT\n"
     ]
    }
   ],
   "source": [
    "from logic.portfolio import *\n"
   ]
  },
  {
   "cell_type": "code",
   "execution_count": 8,
   "id": "117ae058",
   "metadata": {},
   "outputs": [],
   "source": [
    "stocks = ['AAPL', 'XOM', 'MSFT', 'NEE', 'AMT', 'CAT', 'PG', 'JNJ', 'MCD', 'GS']"
   ]
  },
  {
   "cell_type": "code",
   "execution_count": 9,
   "id": "bf6b5503",
   "metadata": {},
   "outputs": [],
   "source": [
    "models = get_many_models(stocks)"
   ]
  },
  {
   "cell_type": "code",
   "execution_count": 10,
   "id": "19c91b3d",
   "metadata": {},
   "outputs": [
    {
     "name": "stderr",
     "output_type": "stream",
     "text": [
      "/home/yurko/code/oscarthse/portfolio_manager/logic/supporting_functions.py:76: SettingWithCopyWarning: \n",
      "A value is trying to be set on a copy of a slice from a DataFrame.\n",
      "Try using .loc[row_indexer,col_indexer] = value instead\n",
      "\n",
      "See the caveats in the documentation: https://pandas.pydata.org/pandas-docs/stable/user_guide/indexing.html#returning-a-view-versus-a-copy\n",
      "  df[f'{prefix}_1'] = (df[column_name] == 1).astype(int)\n",
      "/home/yurko/code/oscarthse/portfolio_manager/logic/supporting_functions.py:77: SettingWithCopyWarning: \n",
      "A value is trying to be set on a copy of a slice from a DataFrame.\n",
      "Try using .loc[row_indexer,col_indexer] = value instead\n",
      "\n",
      "See the caveats in the documentation: https://pandas.pydata.org/pandas-docs/stable/user_guide/indexing.html#returning-a-view-versus-a-copy\n",
      "  df[f'{prefix}_0'] = (df[column_name] == 0).astype(int)\n",
      "/home/yurko/code/oscarthse/portfolio_manager/logic/supporting_functions.py:78: SettingWithCopyWarning: \n",
      "A value is trying to be set on a copy of a slice from a DataFrame.\n",
      "Try using .loc[row_indexer,col_indexer] = value instead\n",
      "\n",
      "See the caveats in the documentation: https://pandas.pydata.org/pandas-docs/stable/user_guide/indexing.html#returning-a-view-versus-a-copy\n",
      "  df[f'{prefix}_-1'] = (df[column_name] == -1).astype(int)\n",
      "/home/yurko/code/oscarthse/portfolio_manager/logic/supporting_functions.py:76: SettingWithCopyWarning: \n",
      "A value is trying to be set on a copy of a slice from a DataFrame.\n",
      "Try using .loc[row_indexer,col_indexer] = value instead\n",
      "\n",
      "See the caveats in the documentation: https://pandas.pydata.org/pandas-docs/stable/user_guide/indexing.html#returning-a-view-versus-a-copy\n",
      "  df[f'{prefix}_1'] = (df[column_name] == 1).astype(int)\n",
      "/home/yurko/code/oscarthse/portfolio_manager/logic/supporting_functions.py:77: SettingWithCopyWarning: \n",
      "A value is trying to be set on a copy of a slice from a DataFrame.\n",
      "Try using .loc[row_indexer,col_indexer] = value instead\n",
      "\n",
      "See the caveats in the documentation: https://pandas.pydata.org/pandas-docs/stable/user_guide/indexing.html#returning-a-view-versus-a-copy\n",
      "  df[f'{prefix}_0'] = (df[column_name] == 0).astype(int)\n",
      "/home/yurko/code/oscarthse/portfolio_manager/logic/supporting_functions.py:78: SettingWithCopyWarning: \n",
      "A value is trying to be set on a copy of a slice from a DataFrame.\n",
      "Try using .loc[row_indexer,col_indexer] = value instead\n",
      "\n",
      "See the caveats in the documentation: https://pandas.pydata.org/pandas-docs/stable/user_guide/indexing.html#returning-a-view-versus-a-copy\n",
      "  df[f'{prefix}_-1'] = (df[column_name] == -1).astype(int)\n",
      "/home/yurko/code/oscarthse/portfolio_manager/logic/supporting_functions.py:76: SettingWithCopyWarning: \n",
      "A value is trying to be set on a copy of a slice from a DataFrame.\n",
      "Try using .loc[row_indexer,col_indexer] = value instead\n",
      "\n",
      "See the caveats in the documentation: https://pandas.pydata.org/pandas-docs/stable/user_guide/indexing.html#returning-a-view-versus-a-copy\n",
      "  df[f'{prefix}_1'] = (df[column_name] == 1).astype(int)\n",
      "/home/yurko/code/oscarthse/portfolio_manager/logic/supporting_functions.py:77: SettingWithCopyWarning: \n",
      "A value is trying to be set on a copy of a slice from a DataFrame.\n",
      "Try using .loc[row_indexer,col_indexer] = value instead\n",
      "\n",
      "See the caveats in the documentation: https://pandas.pydata.org/pandas-docs/stable/user_guide/indexing.html#returning-a-view-versus-a-copy\n",
      "  df[f'{prefix}_0'] = (df[column_name] == 0).astype(int)\n",
      "/home/yurko/code/oscarthse/portfolio_manager/logic/supporting_functions.py:78: SettingWithCopyWarning: \n",
      "A value is trying to be set on a copy of a slice from a DataFrame.\n",
      "Try using .loc[row_indexer,col_indexer] = value instead\n",
      "\n",
      "See the caveats in the documentation: https://pandas.pydata.org/pandas-docs/stable/user_guide/indexing.html#returning-a-view-versus-a-copy\n",
      "  df[f'{prefix}_-1'] = (df[column_name] == -1).astype(int)\n",
      "/home/yurko/code/oscarthse/portfolio_manager/logic/supporting_functions.py:76: SettingWithCopyWarning: \n",
      "A value is trying to be set on a copy of a slice from a DataFrame.\n",
      "Try using .loc[row_indexer,col_indexer] = value instead\n",
      "\n",
      "See the caveats in the documentation: https://pandas.pydata.org/pandas-docs/stable/user_guide/indexing.html#returning-a-view-versus-a-copy\n",
      "  df[f'{prefix}_1'] = (df[column_name] == 1).astype(int)\n",
      "/home/yurko/code/oscarthse/portfolio_manager/logic/supporting_functions.py:77: SettingWithCopyWarning: \n",
      "A value is trying to be set on a copy of a slice from a DataFrame.\n",
      "Try using .loc[row_indexer,col_indexer] = value instead\n",
      "\n",
      "See the caveats in the documentation: https://pandas.pydata.org/pandas-docs/stable/user_guide/indexing.html#returning-a-view-versus-a-copy\n",
      "  df[f'{prefix}_0'] = (df[column_name] == 0).astype(int)\n",
      "/home/yurko/code/oscarthse/portfolio_manager/logic/supporting_functions.py:78: SettingWithCopyWarning: \n",
      "A value is trying to be set on a copy of a slice from a DataFrame.\n",
      "Try using .loc[row_indexer,col_indexer] = value instead\n",
      "\n",
      "See the caveats in the documentation: https://pandas.pydata.org/pandas-docs/stable/user_guide/indexing.html#returning-a-view-versus-a-copy\n",
      "  df[f'{prefix}_-1'] = (df[column_name] == -1).astype(int)\n",
      "/home/yurko/code/oscarthse/portfolio_manager/logic/supporting_functions.py:76: SettingWithCopyWarning: \n",
      "A value is trying to be set on a copy of a slice from a DataFrame.\n",
      "Try using .loc[row_indexer,col_indexer] = value instead\n",
      "\n",
      "See the caveats in the documentation: https://pandas.pydata.org/pandas-docs/stable/user_guide/indexing.html#returning-a-view-versus-a-copy\n",
      "  df[f'{prefix}_1'] = (df[column_name] == 1).astype(int)\n",
      "/home/yurko/code/oscarthse/portfolio_manager/logic/supporting_functions.py:77: SettingWithCopyWarning: \n",
      "A value is trying to be set on a copy of a slice from a DataFrame.\n",
      "Try using .loc[row_indexer,col_indexer] = value instead\n",
      "\n",
      "See the caveats in the documentation: https://pandas.pydata.org/pandas-docs/stable/user_guide/indexing.html#returning-a-view-versus-a-copy\n",
      "  df[f'{prefix}_0'] = (df[column_name] == 0).astype(int)\n",
      "/home/yurko/code/oscarthse/portfolio_manager/logic/supporting_functions.py:78: SettingWithCopyWarning: \n",
      "A value is trying to be set on a copy of a slice from a DataFrame.\n",
      "Try using .loc[row_indexer,col_indexer] = value instead\n",
      "\n",
      "See the caveats in the documentation: https://pandas.pydata.org/pandas-docs/stable/user_guide/indexing.html#returning-a-view-versus-a-copy\n",
      "  df[f'{prefix}_-1'] = (df[column_name] == -1).astype(int)\n",
      "/home/yurko/code/oscarthse/portfolio_manager/logic/supporting_functions.py:76: SettingWithCopyWarning: \n",
      "A value is trying to be set on a copy of a slice from a DataFrame.\n",
      "Try using .loc[row_indexer,col_indexer] = value instead\n",
      "\n",
      "See the caveats in the documentation: https://pandas.pydata.org/pandas-docs/stable/user_guide/indexing.html#returning-a-view-versus-a-copy\n",
      "  df[f'{prefix}_1'] = (df[column_name] == 1).astype(int)\n",
      "/home/yurko/code/oscarthse/portfolio_manager/logic/supporting_functions.py:77: SettingWithCopyWarning: \n",
      "A value is trying to be set on a copy of a slice from a DataFrame.\n",
      "Try using .loc[row_indexer,col_indexer] = value instead\n",
      "\n",
      "See the caveats in the documentation: https://pandas.pydata.org/pandas-docs/stable/user_guide/indexing.html#returning-a-view-versus-a-copy\n",
      "  df[f'{prefix}_0'] = (df[column_name] == 0).astype(int)\n",
      "/home/yurko/code/oscarthse/portfolio_manager/logic/supporting_functions.py:78: SettingWithCopyWarning: \n",
      "A value is trying to be set on a copy of a slice from a DataFrame.\n",
      "Try using .loc[row_indexer,col_indexer] = value instead\n",
      "\n",
      "See the caveats in the documentation: https://pandas.pydata.org/pandas-docs/stable/user_guide/indexing.html#returning-a-view-versus-a-copy\n",
      "  df[f'{prefix}_-1'] = (df[column_name] == -1).astype(int)\n",
      "/home/yurko/code/oscarthse/portfolio_manager/logic/supporting_functions.py:76: SettingWithCopyWarning: \n",
      "A value is trying to be set on a copy of a slice from a DataFrame.\n",
      "Try using .loc[row_indexer,col_indexer] = value instead\n",
      "\n",
      "See the caveats in the documentation: https://pandas.pydata.org/pandas-docs/stable/user_guide/indexing.html#returning-a-view-versus-a-copy\n",
      "  df[f'{prefix}_1'] = (df[column_name] == 1).astype(int)\n",
      "/home/yurko/code/oscarthse/portfolio_manager/logic/supporting_functions.py:77: SettingWithCopyWarning: \n",
      "A value is trying to be set on a copy of a slice from a DataFrame.\n",
      "Try using .loc[row_indexer,col_indexer] = value instead\n",
      "\n",
      "See the caveats in the documentation: https://pandas.pydata.org/pandas-docs/stable/user_guide/indexing.html#returning-a-view-versus-a-copy\n",
      "  df[f'{prefix}_0'] = (df[column_name] == 0).astype(int)\n",
      "/home/yurko/code/oscarthse/portfolio_manager/logic/supporting_functions.py:78: SettingWithCopyWarning: \n",
      "A value is trying to be set on a copy of a slice from a DataFrame.\n",
      "Try using .loc[row_indexer,col_indexer] = value instead\n",
      "\n",
      "See the caveats in the documentation: https://pandas.pydata.org/pandas-docs/stable/user_guide/indexing.html#returning-a-view-versus-a-copy\n",
      "  df[f'{prefix}_-1'] = (df[column_name] == -1).astype(int)\n"
     ]
    },
    {
     "name": "stderr",
     "output_type": "stream",
     "text": [
      "/home/yurko/code/oscarthse/portfolio_manager/logic/supporting_functions.py:76: SettingWithCopyWarning: \n",
      "A value is trying to be set on a copy of a slice from a DataFrame.\n",
      "Try using .loc[row_indexer,col_indexer] = value instead\n",
      "\n",
      "See the caveats in the documentation: https://pandas.pydata.org/pandas-docs/stable/user_guide/indexing.html#returning-a-view-versus-a-copy\n",
      "  df[f'{prefix}_1'] = (df[column_name] == 1).astype(int)\n",
      "/home/yurko/code/oscarthse/portfolio_manager/logic/supporting_functions.py:77: SettingWithCopyWarning: \n",
      "A value is trying to be set on a copy of a slice from a DataFrame.\n",
      "Try using .loc[row_indexer,col_indexer] = value instead\n",
      "\n",
      "See the caveats in the documentation: https://pandas.pydata.org/pandas-docs/stable/user_guide/indexing.html#returning-a-view-versus-a-copy\n",
      "  df[f'{prefix}_0'] = (df[column_name] == 0).astype(int)\n",
      "/home/yurko/code/oscarthse/portfolio_manager/logic/supporting_functions.py:78: SettingWithCopyWarning: \n",
      "A value is trying to be set on a copy of a slice from a DataFrame.\n",
      "Try using .loc[row_indexer,col_indexer] = value instead\n",
      "\n",
      "See the caveats in the documentation: https://pandas.pydata.org/pandas-docs/stable/user_guide/indexing.html#returning-a-view-versus-a-copy\n",
      "  df[f'{prefix}_-1'] = (df[column_name] == -1).astype(int)\n",
      "/home/yurko/code/oscarthse/portfolio_manager/logic/supporting_functions.py:76: SettingWithCopyWarning: \n",
      "A value is trying to be set on a copy of a slice from a DataFrame.\n",
      "Try using .loc[row_indexer,col_indexer] = value instead\n",
      "\n",
      "See the caveats in the documentation: https://pandas.pydata.org/pandas-docs/stable/user_guide/indexing.html#returning-a-view-versus-a-copy\n",
      "  df[f'{prefix}_1'] = (df[column_name] == 1).astype(int)\n",
      "/home/yurko/code/oscarthse/portfolio_manager/logic/supporting_functions.py:77: SettingWithCopyWarning: \n",
      "A value is trying to be set on a copy of a slice from a DataFrame.\n",
      "Try using .loc[row_indexer,col_indexer] = value instead\n",
      "\n",
      "See the caveats in the documentation: https://pandas.pydata.org/pandas-docs/stable/user_guide/indexing.html#returning-a-view-versus-a-copy\n",
      "  df[f'{prefix}_0'] = (df[column_name] == 0).astype(int)\n",
      "/home/yurko/code/oscarthse/portfolio_manager/logic/supporting_functions.py:78: SettingWithCopyWarning: \n",
      "A value is trying to be set on a copy of a slice from a DataFrame.\n",
      "Try using .loc[row_indexer,col_indexer] = value instead\n",
      "\n",
      "See the caveats in the documentation: https://pandas.pydata.org/pandas-docs/stable/user_guide/indexing.html#returning-a-view-versus-a-copy\n",
      "  df[f'{prefix}_-1'] = (df[column_name] == -1).astype(int)\n",
      "/home/yurko/code/oscarthse/portfolio_manager/logic/supporting_functions.py:76: SettingWithCopyWarning: \n",
      "A value is trying to be set on a copy of a slice from a DataFrame.\n",
      "Try using .loc[row_indexer,col_indexer] = value instead\n",
      "\n",
      "See the caveats in the documentation: https://pandas.pydata.org/pandas-docs/stable/user_guide/indexing.html#returning-a-view-versus-a-copy\n",
      "  df[f'{prefix}_1'] = (df[column_name] == 1).astype(int)\n",
      "/home/yurko/code/oscarthse/portfolio_manager/logic/supporting_functions.py:77: SettingWithCopyWarning: \n",
      "A value is trying to be set on a copy of a slice from a DataFrame.\n",
      "Try using .loc[row_indexer,col_indexer] = value instead\n",
      "\n",
      "See the caveats in the documentation: https://pandas.pydata.org/pandas-docs/stable/user_guide/indexing.html#returning-a-view-versus-a-copy\n",
      "  df[f'{prefix}_0'] = (df[column_name] == 0).astype(int)\n",
      "/home/yurko/code/oscarthse/portfolio_manager/logic/supporting_functions.py:78: SettingWithCopyWarning: \n",
      "A value is trying to be set on a copy of a slice from a DataFrame.\n",
      "Try using .loc[row_indexer,col_indexer] = value instead\n",
      "\n",
      "See the caveats in the documentation: https://pandas.pydata.org/pandas-docs/stable/user_guide/indexing.html#returning-a-view-versus-a-copy\n",
      "  df[f'{prefix}_-1'] = (df[column_name] == -1).astype(int)\n"
     ]
    }
   ],
   "source": [
    "X_fit, y_df, stocks_df = merged_times(stocks)"
   ]
  },
  {
   "cell_type": "code",
   "execution_count": 13,
   "id": "04d4bd2f",
   "metadata": {},
   "outputs": [],
   "source": [
    "for i in range(len(stocks)):\n",
    "    X_fit[i].to_csv(f'X_fit_{stocks[i]}.csv')\n",
    "    y_df[i].to_csv(f'y_df_{stocks[i]}.csv')\n",
    "    stocks_df[i].to_csv(f'stocks_df_{stocks[i]}.csv')"
   ]
  },
  {
   "cell_type": "code",
   "execution_count": 23,
   "id": "89333024",
   "metadata": {},
   "outputs": [
    {
     "data": {
      "text/plain": [
       "Index(['Unnamed: 0', 'datetime', 'open', 'high', 'low', 'close', 'volume',\n",
       "       'combo'],\n",
       "      dtype='object')"
      ]
     },
     "execution_count": 23,
     "metadata": {},
     "output_type": "execute_result"
    }
   ],
   "source": [
    "stocks_df[0].columns"
   ]
  },
  {
   "cell_type": "code",
   "execution_count": 14,
   "id": "4ec3a856",
   "metadata": {},
   "outputs": [],
   "source": [
    "stocks_df = []\n",
    "X_fit = []\n",
    "y_df= []\n",
    "\n",
    "for i in range(len(stocks)):\n",
    "    stocks_df.append(pd.read_csv(f'/home/yurko/code/oscarthse/portfolio_manager/stocks_df/stocks_df_{stocks[i]}.csv'))\n",
    "    X_fit.append(pd.read_csv(f'/home/yurko/code/oscarthse/portfolio_manager/X_fit/X_fit_{stocks[i]}.csv'))\n",
    "    y_df.append(pd.read_csv(f'/home/yurko/code/oscarthse/portfolio_manager/y_fit/y_df_{stocks[i]}.csv'))"
   ]
  },
  {
   "cell_type": "code",
   "execution_count": 24,
   "id": "9403fa27",
   "metadata": {},
   "outputs": [],
   "source": [
    "returns = ups_and_downs()"
   ]
  },
  {
   "cell_type": "code",
   "execution_count": 25,
   "id": "6a32fbd1",
   "metadata": {},
   "outputs": [],
   "source": [
    "import json\n",
    "\n",
    "with open('increments.json', 'w') as f:\n",
    "    json.dump(returns, f)"
   ]
  },
  {
   "cell_type": "code",
   "execution_count": 26,
   "id": "7bd7b010",
   "metadata": {},
   "outputs": [],
   "source": [
    "with open('increments.json', 'r') as f:\n",
    "    increments = json.load(f)"
   ]
  },
  {
   "cell_type": "code",
   "execution_count": 27,
   "id": "db02c4f1",
   "metadata": {},
   "outputs": [
    {
     "data": {
      "text/plain": [
       "{'AAPL': {'up': 0.31837599446778025, 'down': -0.320746238418792},\n",
       " 'AMT': {'up': 0.38715191527494913, 'down': -0.3838609516499593},\n",
       " 'MSFT': {'up': 0.3012643276062388, 'down': -0.3006000349963165},\n",
       " 'CAT': {'up': 0.3806318467465596, 'down': -0.3847502673804319},\n",
       " 'GS': {'up': 0.3720395815897206, 'down': -0.37221715372579733},\n",
       " 'JNJ': {'up': 0.2727440579193454, 'down': -0.27027235775281816},\n",
       " 'MCD': {'up': 0.2981475520316021, 'down': -0.29351101170426297},\n",
       " 'NEE': {'up': 0.33643489556861783, 'down': -0.33844376135138654},\n",
       " 'PG': {'up': 0.27878488059638934, 'down': -0.2763514347692313},\n",
       " 'XOM': {'up': 0.3088787675541417, 'down': -0.31336584097404435}}"
      ]
     },
     "execution_count": 27,
     "metadata": {},
     "output_type": "execute_result"
    }
   ],
   "source": [
    "increments"
   ]
  }
 ],
 "metadata": {
  "kernelspec": {
   "display_name": "Python 3 (ipykernel)",
   "language": "python",
   "name": "python3"
  },
  "language_info": {
   "codemirror_mode": {
    "name": "ipython",
    "version": 3
   },
   "file_extension": ".py",
   "mimetype": "text/x-python",
   "name": "python",
   "nbconvert_exporter": "python",
   "pygments_lexer": "ipython3",
   "version": "3.10.6"
  },
  "toc": {
   "base_numbering": 1,
   "nav_menu": {},
   "number_sections": true,
   "sideBar": true,
   "skip_h1_title": false,
   "title_cell": "Table of Contents",
   "title_sidebar": "Contents",
   "toc_cell": false,
   "toc_position": {},
   "toc_section_display": true,
   "toc_window_display": false
  }
 },
 "nbformat": 4,
 "nbformat_minor": 5
}
