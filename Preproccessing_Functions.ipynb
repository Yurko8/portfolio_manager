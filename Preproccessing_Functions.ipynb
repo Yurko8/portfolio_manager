{
 "cells": [
  {
   "cell_type": "code",
   "execution_count": 1,
   "id": "3c2d1f63",
   "metadata": {},
   "outputs": [
    {
     "name": "stderr",
     "output_type": "stream",
     "text": [
      "/home/yurko/.pyenv/versions/3.10.6/envs/lewagon/lib/python3.10/site-packages/scipy/__init__.py:146: UserWarning: A NumPy version >=1.17.3 and <1.25.0 is required for this version of SciPy (detected version 1.26.4\n",
      "  warnings.warn(f\"A NumPy version >={np_minversion} and <{np_maxversion}\"\n"
     ]
    }
   ],
   "source": [
    "from sklearn.preprocessing import MinMaxScaler"
   ]
  },
  {
   "cell_type": "code",
   "execution_count": 2,
   "id": "49d37a28",
   "metadata": {},
   "outputs": [],
   "source": [
    "import numpy as np\n",
    "import pandas as pd"
   ]
  },
  {
   "cell_type": "code",
   "execution_count": 3,
   "id": "c3109b1f",
   "metadata": {},
   "outputs": [],
   "source": [
    "mm_scaler = MinMaxScaler().set_output(transform=\"pandas\")"
   ]
  },
  {
   "cell_type": "code",
   "execution_count": 4,
   "id": "7dd17453",
   "metadata": {},
   "outputs": [],
   "source": [
    "df_data = pd.read_csv(\"raw_data/AAPL.csv\")"
   ]
  },
  {
   "cell_type": "code",
   "execution_count": 5,
   "id": "67d5a262",
   "metadata": {},
   "outputs": [],
   "source": [
    "df_macroeconomic = pd.read_csv(\"raw_data/macro_economic_indicators.csv\")"
   ]
  },
  {
   "cell_type": "code",
   "execution_count": 6,
   "id": "33790eb8",
   "metadata": {},
   "outputs": [],
   "source": [
    "df_technical = pd.read_csv(\"raw_data/AAPL_technical_analysis.csv\")"
   ]
  },
  {
   "cell_type": "markdown",
   "id": "066a3017",
   "metadata": {},
   "source": [
    "# Supporting functions"
   ]
  },
  {
   "cell_type": "code",
   "execution_count": 7,
   "id": "dff69174",
   "metadata": {},
   "outputs": [],
   "source": [
    "def rename_macroeconomic(df_macroeconomic):\n",
    "    columns_macroeconomic = [\"datetime\", \"interest_rate\", \"GDP\", \"inflation\"]\n",
    "    df_macroeconomic.columns = columns_macroeconomic\n",
    "    return df_macroeconomic"
   ]
  },
  {
   "cell_type": "code",
   "execution_count": 8,
   "id": "4396233e",
   "metadata": {},
   "outputs": [],
   "source": [
    "def merge_macroeconomic(df_technical, df_macroeconomic):\n",
    "    df_merged = df_technical.merge(df_macroeconomic, on=\"datetime\", how=\"inner\")\n",
    "    return df_merged"
   ]
  },
  {
   "cell_type": "code",
   "execution_count": 9,
   "id": "8499134f",
   "metadata": {},
   "outputs": [],
   "source": [
    "def rename_columns(df):\n",
    "    columns = [\"datetime\", \"open\", \"high\", \"low\", \"close\", \"volume\"]\n",
    "    df.columns = columns\n",
    "    return df"
   ]
  },
  {
   "cell_type": "code",
   "execution_count": 10,
   "id": "3ec2feda",
   "metadata": {},
   "outputs": [],
   "source": [
    "def rename_technical(df_technical):\n",
    "    df_technical = df_technical.rename(columns = {\"Unnamed: 0\": \"datetime\"})\n",
    "    return df_technical"
   ]
  },
  {
   "cell_type": "code",
   "execution_count": 11,
   "id": "0265c502",
   "metadata": {},
   "outputs": [],
   "source": [
    "def convert_datetime(df):\n",
    "    data = df.copy()\n",
    "    data[\"datetime\"] = pd.to_datetime(data[\"datetime\"])\n",
    "    return data"
   ]
  },
  {
   "cell_type": "code",
   "execution_count": 12,
   "id": "d7dce04a",
   "metadata": {},
   "outputs": [],
   "source": [
    "def merge_columns(df_values, df_technical):\n",
    "    df_merged = df_values.merge(df_technical, how=\"inner\", on=\"datetime\")\n",
    "    return df_merged"
   ]
  },
  {
   "cell_type": "code",
   "execution_count": 13,
   "id": "07c36cde",
   "metadata": {},
   "outputs": [],
   "source": [
    "def clean_data(df):\n",
    "    df_inter = df.interpolate(method='linear')\n",
    "    df_clean = df_inter.dropna()\n",
    "    return df_clean"
   ]
  },
  {
   "cell_type": "code",
   "execution_count": 14,
   "id": "0a3da42f",
   "metadata": {},
   "outputs": [],
   "source": [
    "def create_target(df, column_name, new_column_name='Target'):   \n",
    "    result = []\n",
    "    for i in range(len(df) - 1):\n",
    "        if df[column_name].iloc[i] > df[column_name].iloc[i-1]:\n",
    "            result.append(1)\n",
    "        else:\n",
    "            result.append(0)\n",
    "    result.append(float('nan'))\n",
    "    df[new_column_name] = pd.Series(result, index=df.index)\n",
    "    return df"
   ]
  },
  {
   "cell_type": "code",
   "execution_count": 15,
   "id": "ea6f44ea",
   "metadata": {},
   "outputs": [],
   "source": [
    "def target_drop(df_final):\n",
    "    df_final = df_final.dropna()\n",
    "    return df_final"
   ]
  },
  {
   "cell_type": "code",
   "execution_count": 16,
   "id": "d3208176",
   "metadata": {},
   "outputs": [],
   "source": [
    "def convert_time_sin_cos(df):\n",
    "    data = df.copy()\n",
    "    data['day_of_year'] = data['datetime'].dt.dayofyear\n",
    "    data['time_of_day'] = data['datetime'].dt.hour * 3600 + data['datetime'].dt.minute * 60 + data['datetime'].dt.second\n",
    "    data['day_of_year_norm'] = data['day_of_year'] / 365.0\n",
    "    data['time_of_day_norm'] = data['time_of_day'] / 86400.0\n",
    "    data['cos_time_of_day'] = np.cos(2 * np.pi * data['time_of_day_norm'])\n",
    "    data['sin_time_of_day'] = np.sin(2 * np.pi * data['time_of_day_norm'])\n",
    "    data[\"cos_day_of_year\"] = np.cos(2 * np.pi * data['day_of_year_norm'])\n",
    "    data[\"sin_day_of_year\"] = np.sin(2 * np.pi * data['day_of_year_norm'])\n",
    "    df_converted = data.drop(columns = [\"day_of_year\", \"time_of_day\", \"day_of_year_norm\", \"time_of_day_norm\", \"datetime\"])\n",
    "    return df_converted"
   ]
  },
  {
   "cell_type": "code",
   "execution_count": 17,
   "id": "2854ff70",
   "metadata": {},
   "outputs": [],
   "source": [
    "def log_divide_next(df):\n",
    "    next_values = df.shift(-1)\n",
    "    ratio = df / next_values\n",
    "    log_ratio = np.log(ratio)\n",
    "    return log_ratio"
   ]
  },
  {
   "cell_type": "markdown",
   "id": "a1778b93",
   "metadata": {},
   "source": [
    "# Final function that prepares all the data"
   ]
  },
  {
   "cell_type": "code",
   "execution_count": 20,
   "id": "b3034bb7",
   "metadata": {},
   "outputs": [],
   "source": [
    "def create_x_y(df_data, df_technical, df_macroeconomic):\n",
    "    df_macroeconomics = rename_macroeconomic(df_macroeconomic)\n",
    "    df_technical = rename_technical(df_technical)\n",
    "    df_data = rename_columns(df_data)\n",
    "    df_technical = clean_data(df_technical)\n",
    "    df_data = convert_datetime(df_data)\n",
    "    df_technical = convert_datetime(df_technical)\n",
    "    df_macroeconomic = convert_datetime(df_macroeconomic)\n",
    "    df_technical = merge_macroeconomic(df_technical, df_macroeconomic)\n",
    "    df_merged = merge_columns(df_data, df_technical)\n",
    "    df_target = create_target(df_merged, \"close\")\n",
    "    df_final = target_drop(df_target)\n",
    "    df_time = convert_time_sin_cos(df_final)\n",
    "    X = df_time.drop(columns = \"Target\")\n",
    "    y = df_time[[\"Target\"]]\n",
    "    log_df = log_divide_next(df_data[\"close\"])\n",
    "    return X, y, log_df"
   ]
  },
  {
   "cell_type": "code",
   "execution_count": 21,
   "id": "607ccd72",
   "metadata": {},
   "outputs": [],
   "source": [
    "X, y, log_df = create_x_y(df_data, df_technical, df_macroeconomic)"
   ]
  }
 ],
 "metadata": {
  "kernelspec": {
   "display_name": "Python 3 (ipykernel)",
   "language": "python",
   "name": "python3"
  },
  "language_info": {
   "codemirror_mode": {
    "name": "ipython",
    "version": 3
   },
   "file_extension": ".py",
   "mimetype": "text/x-python",
   "name": "python",
   "nbconvert_exporter": "python",
   "pygments_lexer": "ipython3",
   "version": "3.10.6"
  },
  "toc": {
   "base_numbering": 1,
   "nav_menu": {},
   "number_sections": true,
   "sideBar": true,
   "skip_h1_title": false,
   "title_cell": "Table of Contents",
   "title_sidebar": "Contents",
   "toc_cell": false,
   "toc_position": {},
   "toc_section_display": true,
   "toc_window_display": false
  }
 },
 "nbformat": 4,
 "nbformat_minor": 5
}
