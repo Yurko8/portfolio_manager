{
 "cells": [
  {
   "cell_type": "code",
   "execution_count": 1,
   "id": "3c2d1f63",
   "metadata": {},
   "outputs": [
    {
     "name": "stderr",
     "output_type": "stream",
     "text": [
      "/home/yurko/.pyenv/versions/3.10.6/envs/lewagon/lib/python3.10/site-packages/scipy/__init__.py:146: UserWarning: A NumPy version >=1.17.3 and <1.25.0 is required for this version of SciPy (detected version 1.26.4\n",
      "  warnings.warn(f\"A NumPy version >={np_minversion} and <{np_maxversion}\"\n"
     ]
    }
   ],
   "source": [
    "from sklearn.preprocessing import MinMaxScaler"
   ]
  },
  {
   "cell_type": "code",
   "execution_count": 2,
   "id": "49d37a28",
   "metadata": {},
   "outputs": [],
   "source": [
    "import numpy as np\n",
    "import pandas as pd"
   ]
  },
  {
   "cell_type": "code",
   "execution_count": 3,
   "id": "c3109b1f",
   "metadata": {},
   "outputs": [],
   "source": [
    "mm_scaler = MinMaxScaler().set_output(transform=\"pandas\")"
   ]
  },
  {
   "cell_type": "code",
   "execution_count": 4,
   "id": "7dd17453",
   "metadata": {},
   "outputs": [],
   "source": [
    "df_data = pd.read_csv(\"raw_data/AAPL.csv\")"
   ]
  },
  {
   "cell_type": "code",
   "execution_count": 5,
   "id": "67d5a262",
   "metadata": {},
   "outputs": [],
   "source": [
    "df_macroeconomic = pd.read_csv(\"raw_data/macro_economic_indicators.csv\")"
   ]
  },
  {
   "cell_type": "code",
   "execution_count": 6,
   "id": "33790eb8",
   "metadata": {},
   "outputs": [],
   "source": [
    "df_technical = pd.read_csv(\"raw_data/AAPL_technical_analysis.csv\")"
   ]
  },
  {
   "cell_type": "markdown",
   "id": "066a3017",
   "metadata": {},
   "source": [
    "# Supporting functions"
   ]
  },
  {
   "cell_type": "code",
   "execution_count": 7,
   "id": "dff69174",
   "metadata": {},
   "outputs": [],
   "source": [
    "def rename_macroeconomic(df_macroeconomic):\n",
    "    columns_macroeconomic = [\"datetime\", \"interest_rate\", \"GDP\", \"inflation\"]\n",
    "    df_macroeconomic.columns = columns_macroeconomic\n",
    "    return df_macroeconomic"
   ]
  },
  {
   "cell_type": "code",
   "execution_count": 8,
   "id": "4396233e",
   "metadata": {},
   "outputs": [],
   "source": [
    "def merge_macroeconomic(df_technical, df_macroeconomic):\n",
    "    df_merged = df_technical.merge(df_macroeconomic, on=\"datetime\", how=\"inner\")\n",
    "    return df_merged"
   ]
  },
  {
   "cell_type": "code",
   "execution_count": 9,
   "id": "8499134f",
   "metadata": {},
   "outputs": [],
   "source": [
    "def rename_columns(df):\n",
    "    columns = [\"datetime\", \"open\", \"high\", \"low\", \"close\", \"volume\"]\n",
    "    df.columns = columns\n",
    "    return df"
   ]
  },
  {
   "cell_type": "code",
   "execution_count": 20,
   "id": "3ec2feda",
   "metadata": {},
   "outputs": [],
   "source": [
    "def rename_technical(df_technical):\n",
    "    df_technical = df_technical.rename(columns = {\"Unnamed: 0\": \"datetime\"})\n",
    "    return df_technical"
   ]
  },
  {
   "cell_type": "code",
   "execution_count": 21,
   "id": "0265c502",
   "metadata": {},
   "outputs": [],
   "source": [
    "def convert_datetime(df):\n",
    "    data = df.copy()\n",
    "    data[\"datetime\"] = pd.to_datetime(data[\"datetime\"])\n",
    "    return data"
   ]
  },
  {
   "cell_type": "code",
   "execution_count": 22,
   "id": "d7dce04a",
   "metadata": {},
   "outputs": [],
   "source": [
    "def merge_columns(df_values, df_technical):\n",
    "    df_merged = df_values.merge(df_technical, how=\"inner\", on=\"datetime\")\n",
    "    return df_merged"
   ]
  },
  {
   "cell_type": "code",
   "execution_count": 23,
   "id": "07c36cde",
   "metadata": {},
   "outputs": [],
   "source": [
    "def clean_data(df):\n",
    "    df_inter = df.interpolate(method='linear')\n",
    "    df_clean = df_inter.dropna()\n",
    "    return df_clean"
   ]
  },
  {
   "cell_type": "code",
   "execution_count": 24,
   "id": "0a3da42f",
   "metadata": {},
   "outputs": [],
   "source": [
    "def create_target(df, column_name, new_column_name='Target'):   \n",
    "    result = []\n",
    "    for i in range(len(df) - 1):\n",
    "        if df[column_name].iloc[i] > df[column_name].iloc[i-1]:\n",
    "            result.append(1)\n",
    "        else:\n",
    "            result.append(0)\n",
    "    result.append(float('nan'))\n",
    "    df[new_column_name] = pd.Series(result, index=df.index)\n",
    "    return df"
   ]
  },
  {
   "cell_type": "code",
   "execution_count": 25,
   "id": "ea6f44ea",
   "metadata": {},
   "outputs": [],
   "source": [
    "def target_drop(df_final):\n",
    "    df_final = df_final.dropna()\n",
    "    return df_final"
   ]
  },
  {
   "cell_type": "code",
   "execution_count": 26,
   "id": "d3208176",
   "metadata": {},
   "outputs": [],
   "source": [
    "def convert_time_sin_cos(df):\n",
    "    data = df.copy()\n",
    "    data['day_of_year'] = data['datetime'].dt.dayofyear\n",
    "    data['time_of_day'] = data['datetime'].dt.hour * 3600 + data['datetime'].dt.minute * 60 + data['datetime'].dt.second\n",
    "    data['day_of_year_norm'] = data['day_of_year'] / 365.0\n",
    "    data['time_of_day_norm'] = data['time_of_day'] / 86400.0\n",
    "    data['cos_time_of_day'] = np.cos(2 * np.pi * data['time_of_day_norm'])\n",
    "    data['sin_time_of_day'] = np.sin(2 * np.pi * data['time_of_day_norm'])\n",
    "    data[\"cos_day_of_year\"] = np.cos(2 * np.pi * data['day_of_year_norm'])\n",
    "    data[\"sin_day_of_year\"] = np.sin(2 * np.pi * data['day_of_year_norm'])\n",
    "    df_converted = data.drop(columns = [\"day_of_year\", \"time_of_day\", \"day_of_year_norm\", \"time_of_day_norm\", \"datetime\"])\n",
    "    return df_converted"
   ]
  },
  {
   "cell_type": "code",
   "execution_count": 27,
   "id": "2854ff70",
   "metadata": {},
   "outputs": [],
   "source": [
    "def log_divide_next(df):\n",
    "    log_returns = np.log(df_data['close'] / df_data['close'].shift(1))\n",
    "    return log_returns"
   ]
  },
  {
   "cell_type": "markdown",
   "id": "a1778b93",
   "metadata": {},
   "source": [
    "# Final function that prepares all the data"
   ]
  },
  {
   "cell_type": "code",
   "execution_count": 28,
   "id": "b3034bb7",
   "metadata": {},
   "outputs": [],
   "source": [
    "def create_x_y(df_data, df_technical, df_macroeconomic):\n",
    "    df_macroeconomic = rename_macroeconomic(df_macroeconomic)\n",
    "    df_technical = rename_technical(df_technical)\n",
    "    df_data = rename_columns(df_data)\n",
    "    df_technical = clean_data(df_technical)\n",
    "    df_data = convert_datetime(df_data)\n",
    "    df_technical = convert_datetime(df_technical)\n",
    "    df_macroeconomic = convert_datetime(df_macroeconomic)\n",
    "    df_technical = merge_macroeconomic(df_technical, df_macroeconomic)\n",
    "    df_merged = merge_columns(df_data, df_technical)\n",
    "    df_target = create_target(df_merged, \"close\")\n",
    "    df_final = target_drop(df_target)\n",
    "    df_time = convert_time_sin_cos(df_target)\n",
    "    X = df_time.drop(columns = \"Target\")\n",
    "    y = df_time[[\"Target\"]]\n",
    "    log_df = log_divide_next(df_data[\"close\"]).dropna()\n",
    "    return X, y, log_df"
   ]
  },
  {
   "cell_type": "code",
   "execution_count": 109,
   "id": "1127d3c7",
   "metadata": {},
   "outputs": [],
   "source": [
    "X, y, log_df = create_x_y(df_data, df_technical, df_macroeconomic)"
   ]
  },
  {
   "cell_type": "code",
   "execution_count": 48,
   "id": "bab23113",
   "metadata": {},
   "outputs": [
    {
     "data": {
      "text/plain": [
       "(139310, 27)"
      ]
     },
     "execution_count": 48,
     "metadata": {},
     "output_type": "execute_result"
    }
   ],
   "source": [
    "X.shape"
   ]
  },
  {
   "cell_type": "code",
   "execution_count": 134,
   "id": "865c0b65",
   "metadata": {},
   "outputs": [],
   "source": [
    "def create_lstm_windows(X, y, window_size):\n",
    "    \n",
    "    X_windows = []\n",
    "    y_windows = []\n",
    "    \n",
    "#     mm_scaler = MinMaxScaler().set_output(transform=\"pandas\")\n",
    "#     X_scaled = mm_scaler.fit_transform(X)\n",
    "    \n",
    "    for i in range(len(X) - window_size):\n",
    "        X_windows.append(X.iloc[i:i + window_size].values)\n",
    "        y_windows.append(y.iloc[i + window_size])\n",
    "    \n",
    "    return np.array(X_windows), np.array(y_windows)\n"
   ]
  },
  {
   "cell_type": "code",
   "execution_count": 135,
   "id": "f2b31e89",
   "metadata": {},
   "outputs": [],
   "source": [
    "X_windows, y_windows = create_lstm_windows(X, y, 10)"
   ]
  },
  {
   "cell_type": "code",
   "execution_count": 128,
   "id": "11e16cb4",
   "metadata": {},
   "outputs": [
    {
     "data": {
      "text/plain": [
       "(139300, 1)"
      ]
     },
     "execution_count": 128,
     "metadata": {},
     "output_type": "execute_result"
    }
   ],
   "source": [
    "y_windows.shape"
   ]
  },
  {
   "cell_type": "code",
   "execution_count": 112,
   "id": "d57e11d7",
   "metadata": {},
   "outputs": [
    {
     "data": {
      "text/plain": [
       "(139300, 10, 27)"
      ]
     },
     "execution_count": 112,
     "metadata": {},
     "output_type": "execute_result"
    }
   ],
   "source": [
    "X_windows.shape"
   ]
  },
  {
   "cell_type": "code",
   "execution_count": 124,
   "id": "89bc6e28",
   "metadata": {},
   "outputs": [],
   "source": [
    "y_2 = y_windows.flatten()"
   ]
  },
  {
   "cell_type": "code",
   "execution_count": 55,
   "id": "071c2c4b",
   "metadata": {},
   "outputs": [
    {
     "name": "stderr",
     "output_type": "stream",
     "text": [
      "2024-08-27 15:38:52.004795: I tensorflow/core/util/port.cc:153] oneDNN custom operations are on. You may see slightly different numerical results due to floating-point round-off errors from different computation orders. To turn them off, set the environment variable `TF_ENABLE_ONEDNN_OPTS=0`.\n",
      "2024-08-27 15:38:52.026463: I external/local_xla/xla/tsl/cuda/cudart_stub.cc:32] Could not find cuda drivers on your machine, GPU will not be used.\n",
      "2024-08-27 15:38:52.150188: I external/local_xla/xla/tsl/cuda/cudart_stub.cc:32] Could not find cuda drivers on your machine, GPU will not be used.\n",
      "2024-08-27 15:38:52.349471: E external/local_xla/xla/stream_executor/cuda/cuda_fft.cc:485] Unable to register cuFFT factory: Attempting to register factory for plugin cuFFT when one has already been registered\n",
      "2024-08-27 15:38:52.480881: E external/local_xla/xla/stream_executor/cuda/cuda_dnn.cc:8454] Unable to register cuDNN factory: Attempting to register factory for plugin cuDNN when one has already been registered\n",
      "2024-08-27 15:38:52.516676: E external/local_xla/xla/stream_executor/cuda/cuda_blas.cc:1452] Unable to register cuBLAS factory: Attempting to register factory for plugin cuBLAS when one has already been registered\n",
      "2024-08-27 15:38:52.834455: I tensorflow/core/platform/cpu_feature_guard.cc:210] This TensorFlow binary is optimized to use available CPU instructions in performance-critical operations.\n",
      "To enable the following instructions: AVX2 AVX_VNNI FMA, in other operations, rebuild TensorFlow with the appropriate compiler flags.\n",
      "2024-08-27 15:38:54.724663: W tensorflow/compiler/tf2tensorrt/utils/py_utils.cc:38] TF-TRT Warning: Could not find TensorRT\n"
     ]
    }
   ],
   "source": [
    "from tensorflow.keras import models\n",
    "from tensorflow.keras import Sequential, layers\n",
    "from tensorflow.keras import optimizers\n",
    "from tensorflow.keras import callbacks\n",
    "from tensorflow.keras.layers import Dense, Reshape\n",
    "from tensorflow.keras import regularizers\n",
    "from tensorflow.keras.layers import Normalization\n",
    "from tensorflow.keras.utils import to_categorical\n",
    "from tensorflow.keras.callbacks import EarlyStopping\n",
    "from tensorflow.keras.preprocessing.text import text_to_word_sequence\n",
    "from tensorflow.keras.preprocessing.text import Tokenizer\n",
    "from tensorflow.keras.preprocessing.sequence import pad_sequences"
   ]
  },
  {
   "cell_type": "code",
   "execution_count": 139,
   "id": "93f8e901",
   "metadata": {},
   "outputs": [],
   "source": [
    "model = Sequential()\n",
    "model.add(layers.LSTM(units = 128, return_sequences = True))\n",
    "model.add(layers.Dropout(0.2))\n",
    "model.add(layers.LSTM(units = 64, return_sequences = True))\n",
    "model.add(layers.Dropout(0.2))\n",
    "model.add(layers.LSTM(units = 64, return_sequences = True))\n",
    "model.add(layers.Dropout(0.2))\n",
    "model.add(layers.LSTM(units = 32, return_sequences = True))\n",
    "model.add(layers.Dropout(0.2))\n",
    "model.add(layers.LSTM(units = 8))\n",
    "model.add(layers.Dense(1, activation=\"sigmoid\"))"
   ]
  },
  {
   "cell_type": "code",
   "execution_count": 140,
   "id": "f96ae777",
   "metadata": {},
   "outputs": [],
   "source": [
    "model.compile(loss=\"binary_crossentropy\", optimizer = \"adam\", metrics = [\"accuracy\"])"
   ]
  },
  {
   "cell_type": "code",
   "execution_count": 141,
   "id": "382847b9",
   "metadata": {},
   "outputs": [
    {
     "name": "stdout",
     "output_type": "stream",
     "text": [
      "Epoch 1/5\n"
     ]
    },
    {
     "ename": "InaccessibleTensorError",
     "evalue": "<tf.Tensor 'sequential_21/normalization_1/Reshape:0' shape=(1, 1, 27) dtype=float32> is out of scope and cannot be used here. Use return values, explicit Python locals or TensorFlow collections to access it.\nPlease see https://www.tensorflow.org/guide/function#all_outputs_of_a_tffunction_must_be_return_values for more information.\n\n<tf.Tensor 'sequential_21/normalization_1/Reshape:0' shape=(1, 1, 27) dtype=float32> was defined here:\n    File \"/home/yurko/.pyenv/versions/3.10.6/lib/python3.10/runpy.py\", line 196, in _run_module_as_main\n    File \"/home/yurko/.pyenv/versions/3.10.6/lib/python3.10/runpy.py\", line 86, in _run_code\n    File \"/home/yurko/.pyenv/versions/3.10.6/envs/lewagon/lib/python3.10/site-packages/ipykernel_launcher.py\", line 17, in <module>\n    File \"/home/yurko/.pyenv/versions/3.10.6/envs/lewagon/lib/python3.10/site-packages/traitlets/config/application.py\", line 982, in launch_instance\n    File \"/home/yurko/.pyenv/versions/3.10.6/envs/lewagon/lib/python3.10/site-packages/ipykernel/kernelapp.py\", line 712, in start\n    File \"/home/yurko/.pyenv/versions/3.10.6/envs/lewagon/lib/python3.10/site-packages/tornado/platform/asyncio.py\", line 215, in start\n    File \"/home/yurko/.pyenv/versions/3.10.6/lib/python3.10/asyncio/base_events.py\", line 600, in run_forever\n    File \"/home/yurko/.pyenv/versions/3.10.6/lib/python3.10/asyncio/base_events.py\", line 1896, in _run_once\n    File \"/home/yurko/.pyenv/versions/3.10.6/lib/python3.10/asyncio/events.py\", line 80, in _run\n    File \"/home/yurko/.pyenv/versions/3.10.6/envs/lewagon/lib/python3.10/site-packages/ipykernel/kernelbase.py\", line 510, in dispatch_queue\n    File \"/home/yurko/.pyenv/versions/3.10.6/envs/lewagon/lib/python3.10/site-packages/ipykernel/kernelbase.py\", line 499, in process_one\n    File \"/home/yurko/.pyenv/versions/3.10.6/envs/lewagon/lib/python3.10/site-packages/ipykernel/kernelbase.py\", line 406, in dispatch_shell\n    File \"/home/yurko/.pyenv/versions/3.10.6/envs/lewagon/lib/python3.10/site-packages/ipykernel/kernelbase.py\", line 730, in execute_request\n    File \"/home/yurko/.pyenv/versions/3.10.6/envs/lewagon/lib/python3.10/site-packages/ipykernel/ipkernel.py\", line 383, in do_execute\n    File \"/home/yurko/.pyenv/versions/3.10.6/envs/lewagon/lib/python3.10/site-packages/ipykernel/zmqshell.py\", line 528, in run_cell\n    File \"/home/yurko/.pyenv/versions/3.10.6/envs/lewagon/lib/python3.10/site-packages/IPython/core/interactiveshell.py\", line 2885, in run_cell\n    File \"/home/yurko/.pyenv/versions/3.10.6/envs/lewagon/lib/python3.10/site-packages/IPython/core/interactiveshell.py\", line 2940, in _run_cell\n    File \"/home/yurko/.pyenv/versions/3.10.6/envs/lewagon/lib/python3.10/site-packages/IPython/core/async_helpers.py\", line 129, in _pseudo_sync_runner\n    File \"/home/yurko/.pyenv/versions/3.10.6/envs/lewagon/lib/python3.10/site-packages/IPython/core/interactiveshell.py\", line 3139, in run_cell_async\n    File \"/home/yurko/.pyenv/versions/3.10.6/envs/lewagon/lib/python3.10/site-packages/IPython/core/interactiveshell.py\", line 3318, in run_ast_nodes\n    File \"/home/yurko/.pyenv/versions/3.10.6/envs/lewagon/lib/python3.10/site-packages/IPython/core/interactiveshell.py\", line 3378, in run_code\n    File \"/tmp/ipykernel_176839/3393239127.py\", line 1, in <module>\n    File \"/home/yurko/.pyenv/versions/3.10.6/envs/lewagon/lib/python3.10/site-packages/keras/src/utils/traceback_utils.py\", line 117, in error_handler\n    File \"/home/yurko/.pyenv/versions/3.10.6/envs/lewagon/lib/python3.10/site-packages/keras/src/backend/tensorflow/trainer.py\", line 320, in fit\n    File \"/home/yurko/.pyenv/versions/3.10.6/envs/lewagon/lib/python3.10/site-packages/keras/src/backend/tensorflow/trainer.py\", line 121, in one_step_on_iterator\n    File \"/home/yurko/.pyenv/versions/3.10.6/envs/lewagon/lib/python3.10/site-packages/keras/src/backend/tensorflow/trainer.py\", line 108, in one_step_on_data\n    File \"/home/yurko/.pyenv/versions/3.10.6/envs/lewagon/lib/python3.10/site-packages/keras/src/backend/tensorflow/trainer.py\", line 51, in train_step\n    File \"/home/yurko/.pyenv/versions/3.10.6/envs/lewagon/lib/python3.10/site-packages/keras/src/utils/traceback_utils.py\", line 117, in error_handler\n    File \"/home/yurko/.pyenv/versions/3.10.6/envs/lewagon/lib/python3.10/site-packages/keras/src/layers/layer.py\", line 826, in __call__\n    File \"/home/yurko/.pyenv/versions/3.10.6/envs/lewagon/lib/python3.10/site-packages/keras/src/layers/layer.py\", line 1367, in _maybe_build\n    File \"/home/yurko/.pyenv/versions/3.10.6/envs/lewagon/lib/python3.10/site-packages/keras/src/layers/layer.py\", line 226, in build_wrapper\n    File \"/home/yurko/.pyenv/versions/3.10.6/envs/lewagon/lib/python3.10/site-packages/keras/src/models/sequential.py\", line 186, in build\n    File \"/home/yurko/.pyenv/versions/3.10.6/envs/lewagon/lib/python3.10/site-packages/keras/src/layers/preprocessing/tf_data_layer.py\", line 49, in __call__\n    File \"/home/yurko/.pyenv/versions/3.10.6/envs/lewagon/lib/python3.10/site-packages/keras/src/utils/traceback_utils.py\", line 117, in error_handler\n    File \"/home/yurko/.pyenv/versions/3.10.6/envs/lewagon/lib/python3.10/site-packages/keras/src/layers/layer.py\", line 826, in __call__\n    File \"/home/yurko/.pyenv/versions/3.10.6/envs/lewagon/lib/python3.10/site-packages/keras/src/layers/layer.py\", line 1367, in _maybe_build\n    File \"/home/yurko/.pyenv/versions/3.10.6/envs/lewagon/lib/python3.10/site-packages/keras/src/layers/layer.py\", line 226, in build_wrapper\n    File \"/home/yurko/.pyenv/versions/3.10.6/envs/lewagon/lib/python3.10/site-packages/keras/src/layers/preprocessing/normalization.py\", line 187, in build\n    File \"/home/yurko/.pyenv/versions/3.10.6/envs/lewagon/lib/python3.10/site-packages/keras/src/layers/preprocessing/normalization.py\", line 291, in finalize_state\n    File \"/home/yurko/.pyenv/versions/3.10.6/envs/lewagon/lib/python3.10/site-packages/keras/src/ops/numpy.py\", line 4440, in reshape\n    File \"/home/yurko/.pyenv/versions/3.10.6/envs/lewagon/lib/python3.10/site-packages/keras/src/backend/tensorflow/numpy.py\", line 1789, in reshape\n\nThe tensor <tf.Tensor 'sequential_21/normalization_1/Reshape:0' shape=(1, 1, 27) dtype=float32> cannot be accessed from FuncGraph(name=one_step_on_iterator, id=139964062410432), because it was defined in FuncGraph(name=one_step_on_data, id=139964062412608), which is out of scope.",
     "output_type": "error",
     "traceback": [
      "\u001b[0;31m---------------------------------------------------------------------------\u001b[0m",
      "\u001b[0;31mInaccessibleTensorError\u001b[0m                   Traceback (most recent call last)",
      "Cell \u001b[0;32mIn [141], line 1\u001b[0m\n\u001b[0;32m----> 1\u001b[0m \u001b[43mmodel\u001b[49m\u001b[38;5;241;43m.\u001b[39;49m\u001b[43mfit\u001b[49m\u001b[43m(\u001b[49m\u001b[43mX_windows\u001b[49m\u001b[43m,\u001b[49m\u001b[43m \u001b[49m\u001b[43my_windows\u001b[49m\u001b[43m,\u001b[49m\u001b[43m \u001b[49m\u001b[43mepochs\u001b[49m\u001b[43m \u001b[49m\u001b[38;5;241;43m=\u001b[39;49m\u001b[43m \u001b[49m\u001b[38;5;241;43m5\u001b[39;49m\u001b[43m,\u001b[49m\u001b[43m \u001b[49m\u001b[43mbatch_size\u001b[49m\u001b[43m \u001b[49m\u001b[38;5;241;43m=\u001b[39;49m\u001b[43m \u001b[49m\u001b[38;5;241;43m64\u001b[39;49m\u001b[43m)\u001b[49m\n",
      "File \u001b[0;32m~/.pyenv/versions/3.10.6/envs/lewagon/lib/python3.10/site-packages/keras/src/utils/traceback_utils.py:122\u001b[0m, in \u001b[0;36mfilter_traceback.<locals>.error_handler\u001b[0;34m(*args, **kwargs)\u001b[0m\n\u001b[1;32m    119\u001b[0m     filtered_tb \u001b[38;5;241m=\u001b[39m _process_traceback_frames(e\u001b[38;5;241m.\u001b[39m__traceback__)\n\u001b[1;32m    120\u001b[0m     \u001b[38;5;66;03m# To get the full stack trace, call:\u001b[39;00m\n\u001b[1;32m    121\u001b[0m     \u001b[38;5;66;03m# `keras.config.disable_traceback_filtering()`\u001b[39;00m\n\u001b[0;32m--> 122\u001b[0m     \u001b[38;5;28;01mraise\u001b[39;00m e\u001b[38;5;241m.\u001b[39mwith_traceback(filtered_tb) \u001b[38;5;28;01mfrom\u001b[39;00m \u001b[38;5;28mNone\u001b[39m\n\u001b[1;32m    123\u001b[0m \u001b[38;5;28;01mfinally\u001b[39;00m:\n\u001b[1;32m    124\u001b[0m     \u001b[38;5;28;01mdel\u001b[39;00m filtered_tb\n",
      "File \u001b[0;32m~/.pyenv/versions/3.10.6/envs/lewagon/lib/python3.10/site-packages/tensorflow/core/function/capture/capture_container.py:144\u001b[0m, in \u001b[0;36mFunctionCaptures.capture_by_value\u001b[0;34m(self, graph, tensor, name)\u001b[0m\n\u001b[1;32m    141\u001b[0m   \u001b[38;5;28;01mreturn\u001b[39;00m \u001b[38;5;28mself\u001b[39m\u001b[38;5;241m.\u001b[39m_create_placeholder_helper(graph, tensor, name)\n\u001b[1;32m    143\u001b[0m \u001b[38;5;28;01mif\u001b[39;00m tensor\u001b[38;5;241m.\u001b[39mgraph \u001b[38;5;129;01mis\u001b[39;00m \u001b[38;5;129;01mnot\u001b[39;00m graph:\n\u001b[0;32m--> 144\u001b[0m   \u001b[43mgraph\u001b[49m\u001b[38;5;241;43m.\u001b[39;49m\u001b[43m_validate_in_scope\u001b[49m\u001b[43m(\u001b[49m\u001b[43mtensor\u001b[49m\u001b[43m)\u001b[49m  \u001b[38;5;66;03m# pylint: disable=protected-access\u001b[39;00m\n\u001b[1;32m    145\u001b[0m   \u001b[38;5;28;01mif\u001b[39;00m name \u001b[38;5;129;01mis\u001b[39;00m \u001b[38;5;28;01mNone\u001b[39;00m:\n\u001b[1;32m    146\u001b[0m     \u001b[38;5;28;01massert\u001b[39;00m tensor\u001b[38;5;241m.\u001b[39mop \u001b[38;5;129;01mis\u001b[39;00m \u001b[38;5;129;01mnot\u001b[39;00m \u001b[38;5;28;01mNone\u001b[39;00m, (\n\u001b[1;32m    147\u001b[0m         tensor\u001b[38;5;241m.\u001b[39m\u001b[38;5;18m__class__\u001b[39m,\n\u001b[1;32m    148\u001b[0m         \u001b[38;5;28mdir\u001b[39m(tensor),\n\u001b[1;32m    149\u001b[0m         tensor\u001b[38;5;241m.\u001b[39m\u001b[38;5;18m__class__\u001b[39m\u001b[38;5;241m.\u001b[39m\u001b[38;5;18m__name__\u001b[39m,\n\u001b[1;32m    150\u001b[0m     )\n",
      "\u001b[0;31mInaccessibleTensorError\u001b[0m: <tf.Tensor 'sequential_21/normalization_1/Reshape:0' shape=(1, 1, 27) dtype=float32> is out of scope and cannot be used here. Use return values, explicit Python locals or TensorFlow collections to access it.\nPlease see https://www.tensorflow.org/guide/function#all_outputs_of_a_tffunction_must_be_return_values for more information.\n\n<tf.Tensor 'sequential_21/normalization_1/Reshape:0' shape=(1, 1, 27) dtype=float32> was defined here:\n    File \"/home/yurko/.pyenv/versions/3.10.6/lib/python3.10/runpy.py\", line 196, in _run_module_as_main\n    File \"/home/yurko/.pyenv/versions/3.10.6/lib/python3.10/runpy.py\", line 86, in _run_code\n    File \"/home/yurko/.pyenv/versions/3.10.6/envs/lewagon/lib/python3.10/site-packages/ipykernel_launcher.py\", line 17, in <module>\n    File \"/home/yurko/.pyenv/versions/3.10.6/envs/lewagon/lib/python3.10/site-packages/traitlets/config/application.py\", line 982, in launch_instance\n    File \"/home/yurko/.pyenv/versions/3.10.6/envs/lewagon/lib/python3.10/site-packages/ipykernel/kernelapp.py\", line 712, in start\n    File \"/home/yurko/.pyenv/versions/3.10.6/envs/lewagon/lib/python3.10/site-packages/tornado/platform/asyncio.py\", line 215, in start\n    File \"/home/yurko/.pyenv/versions/3.10.6/lib/python3.10/asyncio/base_events.py\", line 600, in run_forever\n    File \"/home/yurko/.pyenv/versions/3.10.6/lib/python3.10/asyncio/base_events.py\", line 1896, in _run_once\n    File \"/home/yurko/.pyenv/versions/3.10.6/lib/python3.10/asyncio/events.py\", line 80, in _run\n    File \"/home/yurko/.pyenv/versions/3.10.6/envs/lewagon/lib/python3.10/site-packages/ipykernel/kernelbase.py\", line 510, in dispatch_queue\n    File \"/home/yurko/.pyenv/versions/3.10.6/envs/lewagon/lib/python3.10/site-packages/ipykernel/kernelbase.py\", line 499, in process_one\n    File \"/home/yurko/.pyenv/versions/3.10.6/envs/lewagon/lib/python3.10/site-packages/ipykernel/kernelbase.py\", line 406, in dispatch_shell\n    File \"/home/yurko/.pyenv/versions/3.10.6/envs/lewagon/lib/python3.10/site-packages/ipykernel/kernelbase.py\", line 730, in execute_request\n    File \"/home/yurko/.pyenv/versions/3.10.6/envs/lewagon/lib/python3.10/site-packages/ipykernel/ipkernel.py\", line 383, in do_execute\n    File \"/home/yurko/.pyenv/versions/3.10.6/envs/lewagon/lib/python3.10/site-packages/ipykernel/zmqshell.py\", line 528, in run_cell\n    File \"/home/yurko/.pyenv/versions/3.10.6/envs/lewagon/lib/python3.10/site-packages/IPython/core/interactiveshell.py\", line 2885, in run_cell\n    File \"/home/yurko/.pyenv/versions/3.10.6/envs/lewagon/lib/python3.10/site-packages/IPython/core/interactiveshell.py\", line 2940, in _run_cell\n    File \"/home/yurko/.pyenv/versions/3.10.6/envs/lewagon/lib/python3.10/site-packages/IPython/core/async_helpers.py\", line 129, in _pseudo_sync_runner\n    File \"/home/yurko/.pyenv/versions/3.10.6/envs/lewagon/lib/python3.10/site-packages/IPython/core/interactiveshell.py\", line 3139, in run_cell_async\n    File \"/home/yurko/.pyenv/versions/3.10.6/envs/lewagon/lib/python3.10/site-packages/IPython/core/interactiveshell.py\", line 3318, in run_ast_nodes\n    File \"/home/yurko/.pyenv/versions/3.10.6/envs/lewagon/lib/python3.10/site-packages/IPython/core/interactiveshell.py\", line 3378, in run_code\n    File \"/tmp/ipykernel_176839/3393239127.py\", line 1, in <module>\n    File \"/home/yurko/.pyenv/versions/3.10.6/envs/lewagon/lib/python3.10/site-packages/keras/src/utils/traceback_utils.py\", line 117, in error_handler\n    File \"/home/yurko/.pyenv/versions/3.10.6/envs/lewagon/lib/python3.10/site-packages/keras/src/backend/tensorflow/trainer.py\", line 320, in fit\n    File \"/home/yurko/.pyenv/versions/3.10.6/envs/lewagon/lib/python3.10/site-packages/keras/src/backend/tensorflow/trainer.py\", line 121, in one_step_on_iterator\n    File \"/home/yurko/.pyenv/versions/3.10.6/envs/lewagon/lib/python3.10/site-packages/keras/src/backend/tensorflow/trainer.py\", line 108, in one_step_on_data\n    File \"/home/yurko/.pyenv/versions/3.10.6/envs/lewagon/lib/python3.10/site-packages/keras/src/backend/tensorflow/trainer.py\", line 51, in train_step\n    File \"/home/yurko/.pyenv/versions/3.10.6/envs/lewagon/lib/python3.10/site-packages/keras/src/utils/traceback_utils.py\", line 117, in error_handler\n    File \"/home/yurko/.pyenv/versions/3.10.6/envs/lewagon/lib/python3.10/site-packages/keras/src/layers/layer.py\", line 826, in __call__\n    File \"/home/yurko/.pyenv/versions/3.10.6/envs/lewagon/lib/python3.10/site-packages/keras/src/layers/layer.py\", line 1367, in _maybe_build\n    File \"/home/yurko/.pyenv/versions/3.10.6/envs/lewagon/lib/python3.10/site-packages/keras/src/layers/layer.py\", line 226, in build_wrapper\n    File \"/home/yurko/.pyenv/versions/3.10.6/envs/lewagon/lib/python3.10/site-packages/keras/src/models/sequential.py\", line 186, in build\n    File \"/home/yurko/.pyenv/versions/3.10.6/envs/lewagon/lib/python3.10/site-packages/keras/src/layers/preprocessing/tf_data_layer.py\", line 49, in __call__\n    File \"/home/yurko/.pyenv/versions/3.10.6/envs/lewagon/lib/python3.10/site-packages/keras/src/utils/traceback_utils.py\", line 117, in error_handler\n    File \"/home/yurko/.pyenv/versions/3.10.6/envs/lewagon/lib/python3.10/site-packages/keras/src/layers/layer.py\", line 826, in __call__\n    File \"/home/yurko/.pyenv/versions/3.10.6/envs/lewagon/lib/python3.10/site-packages/keras/src/layers/layer.py\", line 1367, in _maybe_build\n    File \"/home/yurko/.pyenv/versions/3.10.6/envs/lewagon/lib/python3.10/site-packages/keras/src/layers/layer.py\", line 226, in build_wrapper\n    File \"/home/yurko/.pyenv/versions/3.10.6/envs/lewagon/lib/python3.10/site-packages/keras/src/layers/preprocessing/normalization.py\", line 187, in build\n    File \"/home/yurko/.pyenv/versions/3.10.6/envs/lewagon/lib/python3.10/site-packages/keras/src/layers/preprocessing/normalization.py\", line 291, in finalize_state\n    File \"/home/yurko/.pyenv/versions/3.10.6/envs/lewagon/lib/python3.10/site-packages/keras/src/ops/numpy.py\", line 4440, in reshape\n    File \"/home/yurko/.pyenv/versions/3.10.6/envs/lewagon/lib/python3.10/site-packages/keras/src/backend/tensorflow/numpy.py\", line 1789, in reshape\n\nThe tensor <tf.Tensor 'sequential_21/normalization_1/Reshape:0' shape=(1, 1, 27) dtype=float32> cannot be accessed from FuncGraph(name=one_step_on_iterator, id=139964062410432), because it was defined in FuncGraph(name=one_step_on_data, id=139964062412608), which is out of scope."
     ]
    }
   ],
   "source": [
    "model.fit(X_windows, y_windows, epochs = 5, batch_size = 64)"
   ]
  },
  {
   "cell_type": "code",
   "execution_count": null,
   "id": "a468321c",
   "metadata": {},
   "outputs": [],
   "source": []
  },
  {
   "cell_type": "code",
   "execution_count": null,
   "id": "05f20951",
   "metadata": {},
   "outputs": [],
   "source": []
  }
 ],
 "metadata": {
  "kernelspec": {
   "display_name": "Python 3 (ipykernel)",
   "language": "python",
   "name": "python3"
  },
  "language_info": {
   "codemirror_mode": {
    "name": "ipython",
    "version": 3
   },
   "file_extension": ".py",
   "mimetype": "text/x-python",
   "name": "python",
   "nbconvert_exporter": "python",
   "pygments_lexer": "ipython3",
   "version": "3.10.6"
  },
  "toc": {
   "base_numbering": 1,
   "nav_menu": {},
   "number_sections": true,
   "sideBar": true,
   "skip_h1_title": false,
   "title_cell": "Table of Contents",
   "title_sidebar": "Contents",
   "toc_cell": false,
   "toc_position": {},
   "toc_section_display": true,
   "toc_window_display": false
  }
 },
 "nbformat": 4,
 "nbformat_minor": 5
}
