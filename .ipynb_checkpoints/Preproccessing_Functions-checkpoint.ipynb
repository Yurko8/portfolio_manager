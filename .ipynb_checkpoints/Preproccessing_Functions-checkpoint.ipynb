{
 "cells": [
  {
   "cell_type": "code",
   "execution_count": 1,
   "id": "287b4cfd",
   "metadata": {},
   "outputs": [
    {
     "name": "stderr",
     "output_type": "stream",
     "text": [
      "/home/yurko/.pyenv/versions/3.10.6/envs/lewagon/lib/python3.10/site-packages/scipy/__init__.py:146: UserWarning: A NumPy version >=1.17.3 and <1.25.0 is required for this version of SciPy (detected version 1.26.4\n",
      "  warnings.warn(f\"A NumPy version >={np_minversion} and <{np_maxversion}\"\n"
     ]
    }
   ],
   "source": [
    "from sklearn.preprocessing import MinMaxScaler"
   ]
  },
  {
   "cell_type": "code",
   "execution_count": 2,
   "id": "d4d6de86",
   "metadata": {},
   "outputs": [],
   "source": [
    "import numpy as np\n",
    "import pandas as pd"
   ]
  },
  {
   "cell_type": "code",
   "execution_count": 3,
   "id": "eec7a347",
   "metadata": {},
   "outputs": [],
   "source": [
    "mm_scaler = MinMaxScaler().set_output(transform=\"pandas\")"
   ]
  },
  {
   "cell_type": "code",
   "execution_count": 4,
   "id": "ac82b610",
   "metadata": {},
   "outputs": [],
   "source": [
    "df_data = pd.read_csv(\"raw_data/AAPL.csv\")"
   ]
  },
  {
   "cell_type": "code",
   "execution_count": 5,
   "id": "b11da0db",
   "metadata": {},
   "outputs": [],
   "source": [
    "df_technical = pd.read_csv(\"raw_data/AAPL_technical_analysis.csv\")"
   ]
  },
  {
   "cell_type": "code",
   "execution_count": 8,
   "id": "0b292968",
   "metadata": {},
   "outputs": [],
   "source": [
    "df_data = df_data.rename(columns = {\"Unnamed: 0\": \"datetime\"})"
   ]
  },
  {
   "cell_type": "code",
   "execution_count": 10,
   "id": "45dc9034",
   "metadata": {},
   "outputs": [],
   "source": [
    "df_technical = df_technical.rename(columns = {\"Unnamed: 0\": \"datetime\"})"
   ]
  },
  {
   "cell_type": "code",
   "execution_count": 11,
   "id": "8d447c28",
   "metadata": {},
   "outputs": [],
   "source": [
    "def convert_datetime(df):\n",
    "    data = df.copy()\n",
    "    data[\"datetime\"] = pd.to_datetime(data[\"datetime\"])\n",
    "    return data"
   ]
  },
  {
   "cell_type": "code",
   "execution_count": 12,
   "id": "52a7e6d6",
   "metadata": {},
   "outputs": [],
   "source": [
    "def merge_columns(df_values, df_technical):\n",
    "    df_merged = df_values.merge(df_technical, how=\"inner\", on=\"datetime\")\n",
    "    return df_merged"
   ]
  },
  {
   "cell_type": "code",
   "execution_count": 13,
   "id": "66ec52cd",
   "metadata": {},
   "outputs": [],
   "source": [
    "def clean_data(df):\n",
    "    df_inter = df.interpolate(method='linear')\n",
    "    df_clean = df_inter.dropna()\n",
    "    return df_clean"
   ]
  },
  {
   "cell_type": "code",
   "execution_count": 14,
   "id": "dcde3cca",
   "metadata": {},
   "outputs": [],
   "source": [
    "def create_target(df, column_name, new_column_name='Target'):   \n",
    "    result = []\n",
    "    for i in range(len(df) - 1):\n",
    "        if df[column_name].iloc[i+1] > df[column_name].iloc[i]:\n",
    "            result.append(1)\n",
    "        else:\n",
    "            result.append(0)\n",
    "    result.append(float('nan'))\n",
    "    df[new_column_name] = pd.Series(result, index=df.index)\n",
    "    return df"
   ]
  },
  {
   "cell_type": "code",
   "execution_count": 15,
   "id": "e3da5378",
   "metadata": {},
   "outputs": [],
   "source": [
    "def target_drop(df_final):\n",
    "    df_final = df_final.dropna()\n",
    "    return df_final"
   ]
  },
  {
   "cell_type": "code",
   "execution_count": 16,
   "id": "79581a1a",
   "metadata": {},
   "outputs": [],
   "source": [
    "def convert_time_sin_cos(df):\n",
    "    data = df.copy()\n",
    "    data.rename(columns = {\"4. close\": \"target\"}, inplace=True)\n",
    "    data['day_of_year'] = data['datetime'].dt.dayofyear\n",
    "    data['time_of_day'] = data['datetime'].dt.hour * 3600 + data['datetime'].dt.minute * 60 + data['datetime'].dt.second\n",
    "    data['day_of_year_norm'] = data['day_of_year'] / 365.0\n",
    "    data['time_of_day_norm'] = data['time_of_day'] / 86400.0\n",
    "    data['cos_time_of_day'] = np.cos(2 * np.pi * data['time_of_day_norm'])\n",
    "    data['sin_time_of_day'] = np.sin(2 * np.pi * data['time_of_day_norm'])\n",
    "    data[\"cos_day_of_year\"] = np.cos(2 * np.pi * data['day_of_year_norm'])\n",
    "    data[\"sin_day_of_year\"] = np.sin(2 * np.pi * data['day_of_year_norm'])\n",
    "    df_converted = data.drop(columns = [\"day_of_year\", \"time_of_day\", \"day_of_year_norm\", \"time_of_day_norm\", \"datetime\"])\n",
    "    return df_converted"
   ]
  },
  {
   "cell_type": "code",
   "execution_count": 17,
   "id": "dd240874",
   "metadata": {},
   "outputs": [],
   "source": [
    "df_technical = clean_data(df_technical)"
   ]
  },
  {
   "cell_type": "code",
   "execution_count": null,
   "id": "ca3efa24",
   "metadata": {},
   "outputs": [],
   "source": []
  },
  {
   "cell_type": "code",
   "execution_count": null,
   "id": "ba483f9d",
   "metadata": {},
   "outputs": [],
   "source": []
  },
  {
   "cell_type": "code",
   "execution_count": null,
   "id": "6f6c8975",
   "metadata": {},
   "outputs": [],
   "source": []
  },
  {
   "cell_type": "code",
   "execution_count": null,
   "id": "70ce9a28",
   "metadata": {},
   "outputs": [],
   "source": []
  },
  {
   "cell_type": "code",
   "execution_count": null,
   "id": "a3c51c33",
   "metadata": {},
   "outputs": [],
   "source": []
  }
 ],
 "metadata": {
  "kernelspec": {
   "display_name": "Python 3 (ipykernel)",
   "language": "python",
   "name": "python3"
  },
  "language_info": {
   "codemirror_mode": {
    "name": "ipython",
    "version": 3
   },
   "file_extension": ".py",
   "mimetype": "text/x-python",
   "name": "python",
   "nbconvert_exporter": "python",
   "pygments_lexer": "ipython3",
   "version": "3.10.6"
  },
  "toc": {
   "base_numbering": 1,
   "nav_menu": {},
   "number_sections": true,
   "sideBar": true,
   "skip_h1_title": false,
   "title_cell": "Table of Contents",
   "title_sidebar": "Contents",
   "toc_cell": false,
   "toc_position": {},
   "toc_section_display": true,
   "toc_window_display": false
  }
 },
 "nbformat": 4,
 "nbformat_minor": 5
}
